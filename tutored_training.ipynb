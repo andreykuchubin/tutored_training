{
 "cells": [
  {
   "cell_type": "markdown",
   "metadata": {
    "toc": true
   },
   "source": [
    "<h1>Содержание<span class=\"tocSkip\"></span></h1>\n",
    "<div class=\"toc\"><ul class=\"toc-item\"><li><span><a href=\"#Подготовка-данных\" data-toc-modified-id=\"Подготовка-данных-1\"><span class=\"toc-item-num\">1&nbsp;&nbsp;</span>Подготовка данных</a></span></li><li><span><a href=\"#Исследование-задачи\" data-toc-modified-id=\"Исследование-задачи-2\"><span class=\"toc-item-num\">2&nbsp;&nbsp;</span>Исследование задачи</a></span></li><li><span><a href=\"#Борьба-с-дисбалансом\" data-toc-modified-id=\"Борьба-с-дисбалансом-3\"><span class=\"toc-item-num\">3&nbsp;&nbsp;</span>Борьба с дисбалансом</a></span></li><li><span><a href=\"#Тестирование-модели\" data-toc-modified-id=\"Тестирование-модели-4\"><span class=\"toc-item-num\">4&nbsp;&nbsp;</span>Тестирование модели</a></span></li><li><span><a href=\"#Общий-вывод\" data-toc-modified-id=\"Общий-вывод-5\"><span class=\"toc-item-num\">5&nbsp;&nbsp;</span>Общий вывод</a></span></li><li><span><a href=\"#Чек-лист-готовности-проекта\" data-toc-modified-id=\"Чек-лист-готовности-проекта-6\"><span class=\"toc-item-num\">6&nbsp;&nbsp;</span>Чек-лист готовности проекта</a></span></li></ul></div>"
   ]
  },
  {
   "cell_type": "markdown",
   "metadata": {},
   "source": [
    "# Отток клиентов"
   ]
  },
  {
   "cell_type": "markdown",
   "metadata": {},
   "source": [
    "Из «Бета-Банка» стали уходить клиенты. Каждый месяц. Немного, но заметно. Банковские маркетологи посчитали: сохранять текущих клиентов дешевле, чем привлекать новых.\n",
    "\n",
    "Нужно спрогнозировать, уйдёт клиент из банка в ближайшее время или нет. Вам предоставлены исторические данные о поведении клиентов и расторжении договоров с банком. \n",
    "\n",
    "Постройте модель с предельно большим значением *F1*-меры. Чтобы сдать проект успешно, нужно довести метрику до 0.59. Проверьте *F1*-меру на тестовой выборке самостоятельно.\n",
    "\n",
    "Дополнительно измеряйте *AUC-ROC*, сравнивайте её значение с *F1*-мерой.\n",
    "\n",
    "Источник данных: [https://www.kaggle.com/barelydedicated/bank-customer-churn-modeling](https://www.kaggle.com/barelydedicated/bank-customer-churn-modeling)"
   ]
  },
  {
   "cell_type": "markdown",
   "metadata": {},
   "source": [
    "**Цель работы:** спрогнозировать, уйдёт клиент из банка в ближайшее время или нет. При этом значение F1-меры должно быть максимальным для данного набора данных.\n",
    "\n",
    "Входные данные - исторические данные о поведении клиентов и расторжении договоров с банком."
   ]
  },
  {
   "cell_type": "markdown",
   "metadata": {},
   "source": [
    "**План работы:**\n",
    "1. Произведем подготовку данных, для этого:\n",
    "    * загрузим данные;\n",
    "    * разобьем данные на обучающую, валидационную и тестовую выборки;\n",
    "    * проведем прямое кодирование;\n",
    "    * произведем масштабирование признаков.\n",
    "2. Выполним исследование задачи, а именно:\n",
    "    * исследуем баланс классов;\n",
    "    * обучим модель без учета дисбаланса.\n",
    "3. Борьба с дисбалансом:\n",
    "    * улучшим качество модели, учитывая дисбаланс классов;\n",
    "    * обучим три модели и выберем лучшую.\n",
    "4. Проведем финальную проверку выбранной модели на тестовом наборе данных."
   ]
  },
  {
   "cell_type": "markdown",
   "metadata": {},
   "source": [
    "## Подготовка данных"
   ]
  },
  {
   "cell_type": "code",
   "execution_count": 1,
   "metadata": {},
   "outputs": [],
   "source": [
    "import pandas as pd\n",
    "import numpy as np\n",
    "from sklearn.model_selection import train_test_split\n",
    "from sklearn.tree import DecisionTreeClassifier\n",
    "from sklearn.ensemble import RandomForestClassifier\n",
    "from sklearn.linear_model import LogisticRegression\n",
    "from sklearn.preprocessing import StandardScaler\n",
    "from sklearn.metrics import confusion_matrix, ConfusionMatrixDisplay, f1_score, roc_auc_score, roc_curve\n",
    "import matplotlib.pyplot as plt\n",
    "from sklearn.utils import shuffle"
   ]
  },
  {
   "cell_type": "code",
   "execution_count": 2,
   "metadata": {},
   "outputs": [],
   "source": [
    "# Для отключения предупреждения при использовании StandardScaler\n",
    "pd.options.mode.chained_assignment = None "
   ]
  },
  {
   "cell_type": "code",
   "execution_count": 3,
   "metadata": {},
   "outputs": [],
   "source": [
    "data = pd.read_csv('/datasets/Churn.csv')"
   ]
  },
  {
   "cell_type": "code",
   "execution_count": 4,
   "metadata": {},
   "outputs": [
    {
     "name": "stdout",
     "output_type": "stream",
     "text": [
      "<class 'pandas.core.frame.DataFrame'>\n",
      "RangeIndex: 10000 entries, 0 to 9999\n",
      "Data columns (total 14 columns):\n",
      " #   Column           Non-Null Count  Dtype  \n",
      "---  ------           --------------  -----  \n",
      " 0   RowNumber        10000 non-null  int64  \n",
      " 1   CustomerId       10000 non-null  int64  \n",
      " 2   Surname          10000 non-null  object \n",
      " 3   CreditScore      10000 non-null  int64  \n",
      " 4   Geography        10000 non-null  object \n",
      " 5   Gender           10000 non-null  object \n",
      " 6   Age              10000 non-null  int64  \n",
      " 7   Tenure           9091 non-null   float64\n",
      " 8   Balance          10000 non-null  float64\n",
      " 9   NumOfProducts    10000 non-null  int64  \n",
      " 10  HasCrCard        10000 non-null  int64  \n",
      " 11  IsActiveMember   10000 non-null  int64  \n",
      " 12  EstimatedSalary  10000 non-null  float64\n",
      " 13  Exited           10000 non-null  int64  \n",
      "dtypes: float64(3), int64(8), object(3)\n",
      "memory usage: 1.1+ MB\n"
     ]
    }
   ],
   "source": [
    "data.info()"
   ]
  },
  {
   "cell_type": "code",
   "execution_count": 5,
   "metadata": {
    "scrolled": true
   },
   "outputs": [
    {
     "data": {
      "text/html": [
       "<div>\n",
       "<style scoped>\n",
       "    .dataframe tbody tr th:only-of-type {\n",
       "        vertical-align: middle;\n",
       "    }\n",
       "\n",
       "    .dataframe tbody tr th {\n",
       "        vertical-align: top;\n",
       "    }\n",
       "\n",
       "    .dataframe thead th {\n",
       "        text-align: right;\n",
       "    }\n",
       "</style>\n",
       "<table border=\"1\" class=\"dataframe\">\n",
       "  <thead>\n",
       "    <tr style=\"text-align: right;\">\n",
       "      <th></th>\n",
       "      <th>RowNumber</th>\n",
       "      <th>CustomerId</th>\n",
       "      <th>Surname</th>\n",
       "      <th>CreditScore</th>\n",
       "      <th>Geography</th>\n",
       "      <th>Gender</th>\n",
       "      <th>Age</th>\n",
       "      <th>Tenure</th>\n",
       "      <th>Balance</th>\n",
       "      <th>NumOfProducts</th>\n",
       "      <th>HasCrCard</th>\n",
       "      <th>IsActiveMember</th>\n",
       "      <th>EstimatedSalary</th>\n",
       "      <th>Exited</th>\n",
       "    </tr>\n",
       "  </thead>\n",
       "  <tbody>\n",
       "    <tr>\n",
       "      <th>0</th>\n",
       "      <td>1</td>\n",
       "      <td>15634602</td>\n",
       "      <td>Hargrave</td>\n",
       "      <td>619</td>\n",
       "      <td>France</td>\n",
       "      <td>Female</td>\n",
       "      <td>42</td>\n",
       "      <td>2.0</td>\n",
       "      <td>0.00</td>\n",
       "      <td>1</td>\n",
       "      <td>1</td>\n",
       "      <td>1</td>\n",
       "      <td>101348.88</td>\n",
       "      <td>1</td>\n",
       "    </tr>\n",
       "    <tr>\n",
       "      <th>1</th>\n",
       "      <td>2</td>\n",
       "      <td>15647311</td>\n",
       "      <td>Hill</td>\n",
       "      <td>608</td>\n",
       "      <td>Spain</td>\n",
       "      <td>Female</td>\n",
       "      <td>41</td>\n",
       "      <td>1.0</td>\n",
       "      <td>83807.86</td>\n",
       "      <td>1</td>\n",
       "      <td>0</td>\n",
       "      <td>1</td>\n",
       "      <td>112542.58</td>\n",
       "      <td>0</td>\n",
       "    </tr>\n",
       "    <tr>\n",
       "      <th>2</th>\n",
       "      <td>3</td>\n",
       "      <td>15619304</td>\n",
       "      <td>Onio</td>\n",
       "      <td>502</td>\n",
       "      <td>France</td>\n",
       "      <td>Female</td>\n",
       "      <td>42</td>\n",
       "      <td>8.0</td>\n",
       "      <td>159660.80</td>\n",
       "      <td>3</td>\n",
       "      <td>1</td>\n",
       "      <td>0</td>\n",
       "      <td>113931.57</td>\n",
       "      <td>1</td>\n",
       "    </tr>\n",
       "    <tr>\n",
       "      <th>3</th>\n",
       "      <td>4</td>\n",
       "      <td>15701354</td>\n",
       "      <td>Boni</td>\n",
       "      <td>699</td>\n",
       "      <td>France</td>\n",
       "      <td>Female</td>\n",
       "      <td>39</td>\n",
       "      <td>1.0</td>\n",
       "      <td>0.00</td>\n",
       "      <td>2</td>\n",
       "      <td>0</td>\n",
       "      <td>0</td>\n",
       "      <td>93826.63</td>\n",
       "      <td>0</td>\n",
       "    </tr>\n",
       "    <tr>\n",
       "      <th>4</th>\n",
       "      <td>5</td>\n",
       "      <td>15737888</td>\n",
       "      <td>Mitchell</td>\n",
       "      <td>850</td>\n",
       "      <td>Spain</td>\n",
       "      <td>Female</td>\n",
       "      <td>43</td>\n",
       "      <td>2.0</td>\n",
       "      <td>125510.82</td>\n",
       "      <td>1</td>\n",
       "      <td>1</td>\n",
       "      <td>1</td>\n",
       "      <td>79084.10</td>\n",
       "      <td>0</td>\n",
       "    </tr>\n",
       "    <tr>\n",
       "      <th>5</th>\n",
       "      <td>6</td>\n",
       "      <td>15574012</td>\n",
       "      <td>Chu</td>\n",
       "      <td>645</td>\n",
       "      <td>Spain</td>\n",
       "      <td>Male</td>\n",
       "      <td>44</td>\n",
       "      <td>8.0</td>\n",
       "      <td>113755.78</td>\n",
       "      <td>2</td>\n",
       "      <td>1</td>\n",
       "      <td>0</td>\n",
       "      <td>149756.71</td>\n",
       "      <td>1</td>\n",
       "    </tr>\n",
       "    <tr>\n",
       "      <th>6</th>\n",
       "      <td>7</td>\n",
       "      <td>15592531</td>\n",
       "      <td>Bartlett</td>\n",
       "      <td>822</td>\n",
       "      <td>France</td>\n",
       "      <td>Male</td>\n",
       "      <td>50</td>\n",
       "      <td>7.0</td>\n",
       "      <td>0.00</td>\n",
       "      <td>2</td>\n",
       "      <td>1</td>\n",
       "      <td>1</td>\n",
       "      <td>10062.80</td>\n",
       "      <td>0</td>\n",
       "    </tr>\n",
       "    <tr>\n",
       "      <th>7</th>\n",
       "      <td>8</td>\n",
       "      <td>15656148</td>\n",
       "      <td>Obinna</td>\n",
       "      <td>376</td>\n",
       "      <td>Germany</td>\n",
       "      <td>Female</td>\n",
       "      <td>29</td>\n",
       "      <td>4.0</td>\n",
       "      <td>115046.74</td>\n",
       "      <td>4</td>\n",
       "      <td>1</td>\n",
       "      <td>0</td>\n",
       "      <td>119346.88</td>\n",
       "      <td>1</td>\n",
       "    </tr>\n",
       "    <tr>\n",
       "      <th>8</th>\n",
       "      <td>9</td>\n",
       "      <td>15792365</td>\n",
       "      <td>He</td>\n",
       "      <td>501</td>\n",
       "      <td>France</td>\n",
       "      <td>Male</td>\n",
       "      <td>44</td>\n",
       "      <td>4.0</td>\n",
       "      <td>142051.07</td>\n",
       "      <td>2</td>\n",
       "      <td>0</td>\n",
       "      <td>1</td>\n",
       "      <td>74940.50</td>\n",
       "      <td>0</td>\n",
       "    </tr>\n",
       "    <tr>\n",
       "      <th>9</th>\n",
       "      <td>10</td>\n",
       "      <td>15592389</td>\n",
       "      <td>H?</td>\n",
       "      <td>684</td>\n",
       "      <td>France</td>\n",
       "      <td>Male</td>\n",
       "      <td>27</td>\n",
       "      <td>2.0</td>\n",
       "      <td>134603.88</td>\n",
       "      <td>1</td>\n",
       "      <td>1</td>\n",
       "      <td>1</td>\n",
       "      <td>71725.73</td>\n",
       "      <td>0</td>\n",
       "    </tr>\n",
       "  </tbody>\n",
       "</table>\n",
       "</div>"
      ],
      "text/plain": [
       "   RowNumber  CustomerId   Surname  CreditScore Geography  Gender  Age  \\\n",
       "0          1    15634602  Hargrave          619    France  Female   42   \n",
       "1          2    15647311      Hill          608     Spain  Female   41   \n",
       "2          3    15619304      Onio          502    France  Female   42   \n",
       "3          4    15701354      Boni          699    France  Female   39   \n",
       "4          5    15737888  Mitchell          850     Spain  Female   43   \n",
       "5          6    15574012       Chu          645     Spain    Male   44   \n",
       "6          7    15592531  Bartlett          822    France    Male   50   \n",
       "7          8    15656148    Obinna          376   Germany  Female   29   \n",
       "8          9    15792365        He          501    France    Male   44   \n",
       "9         10    15592389        H?          684    France    Male   27   \n",
       "\n",
       "   Tenure    Balance  NumOfProducts  HasCrCard  IsActiveMember  \\\n",
       "0     2.0       0.00              1          1               1   \n",
       "1     1.0   83807.86              1          0               1   \n",
       "2     8.0  159660.80              3          1               0   \n",
       "3     1.0       0.00              2          0               0   \n",
       "4     2.0  125510.82              1          1               1   \n",
       "5     8.0  113755.78              2          1               0   \n",
       "6     7.0       0.00              2          1               1   \n",
       "7     4.0  115046.74              4          1               0   \n",
       "8     4.0  142051.07              2          0               1   \n",
       "9     2.0  134603.88              1          1               1   \n",
       "\n",
       "   EstimatedSalary  Exited  \n",
       "0        101348.88       1  \n",
       "1        112542.58       0  \n",
       "2        113931.57       1  \n",
       "3         93826.63       0  \n",
       "4         79084.10       0  \n",
       "5        149756.71       1  \n",
       "6         10062.80       0  \n",
       "7        119346.88       1  \n",
       "8         74940.50       0  \n",
       "9         71725.73       0  "
      ]
     },
     "execution_count": 5,
     "metadata": {},
     "output_type": "execute_result"
    }
   ],
   "source": [
    "data.head(10)"
   ]
  },
  {
   "cell_type": "code",
   "execution_count": 6,
   "metadata": {
    "scrolled": true
   },
   "outputs": [
    {
     "data": {
      "text/plain": [
       "array([ 2.,  1.,  8.,  7.,  4.,  6.,  3., 10.,  5.,  9.,  0., nan])"
      ]
     },
     "execution_count": 6,
     "metadata": {},
     "output_type": "execute_result"
    }
   ],
   "source": [
    "data['Tenure'].unique()"
   ]
  },
  {
   "cell_type": "markdown",
   "metadata": {},
   "source": [
    "Столбец `Tenure` содержит значение `nan`, на котором модель не сможет обучаться. Адекватно заменить его не получится, поэтому избавимся от строк с этим значением."
   ]
  },
  {
   "cell_type": "code",
   "execution_count": 7,
   "metadata": {},
   "outputs": [],
   "source": [
    "data = data.fillna(np.random.randint(0, 11))"
   ]
  },
  {
   "cell_type": "markdown",
   "metadata": {},
   "source": [
    "Выделим признаки и целевой показатель. На этом же шаге избавимся от дамми-ловушки и проведем прямое кодирование признаков."
   ]
  },
  {
   "cell_type": "code",
   "execution_count": 8,
   "metadata": {},
   "outputs": [],
   "source": [
    "data_ohe = pd.get_dummies(data, drop_first=True)\n",
    "features = data_ohe.drop(['Exited'], axis=1)\n",
    "target = data_ohe['Exited']"
   ]
  },
  {
   "cell_type": "markdown",
   "metadata": {},
   "source": [
    "Разделим данные на обучающую, валидационную и тестовую выборки с признаками и целевыми показателями в каждой."
   ]
  },
  {
   "cell_type": "code",
   "execution_count": 9,
   "metadata": {},
   "outputs": [
    {
     "name": "stdout",
     "output_type": "stream",
     "text": [
      "(6000, 2944)\n",
      "(2000, 2944)\n",
      "(2000, 2944)\n",
      "(6000,)\n",
      "(2000,)\n",
      "(2000,)\n"
     ]
    }
   ],
   "source": [
    "features_train, features_test, target_train, target_test = train_test_split(\n",
    "    features, \n",
    "    target, \n",
    "    test_size=0.2, \n",
    "    random_state=12345,\n",
    "    stratify = target\n",
    "    )\n",
    "\n",
    "features_train, features_valid, target_train, target_valid = train_test_split(\n",
    "    features_train, \n",
    "    target_train, \n",
    "    test_size=0.25, \n",
    "    random_state=12345,\n",
    "    stratify = target_train\n",
    "    )\n",
    "\n",
    "print(features_train.shape)\n",
    "print(features_valid.shape)\n",
    "print(features_test.shape)\n",
    "print(target_train.shape)\n",
    "print(target_valid.shape)\n",
    "print(target_test.shape)"
   ]
  },
  {
   "cell_type": "markdown",
   "metadata": {},
   "source": [
    "Видим, что выборки разделены в верном соотношении обучающая/валидационная/тестовая = 60%/20%/20%."
   ]
  },
  {
   "cell_type": "markdown",
   "metadata": {},
   "source": [
    "Так как имеющиеся данные имеют разный масштаб, проведем масштабирование признаков методом стандартизации."
   ]
  },
  {
   "cell_type": "code",
   "execution_count": 10,
   "metadata": {},
   "outputs": [],
   "source": [
    "scaler = StandardScaler()\n",
    "scaler.fit(features_train)\n",
    "\n",
    "features_train_scaled = scaler.transform(features_train)\n",
    "features_valid_scaled = scaler.transform(features_valid)\n",
    "features_test_scaled = scaler.transform(features_test)"
   ]
  },
  {
   "cell_type": "markdown",
   "metadata": {},
   "source": [
    "**Вывод по первому шагу:** открыли и изучили файл с данными.\n",
    "\n",
    "Датафрейм, содержащий информацию о поведении клиентов, состоит из 14 столбцов и 10000 строк, тип данных в которых: int64 (8 столбцов), float64 (3 столбца), object(3 столбца). \n",
    "\n",
    "Далее строки, которые содержали значения `nan` заполнили случайными значениями в интервале от минимального до максимального значения по данному столбцу. Провели прямое кодирование признаков, после чего количество стобцов с данными увеличилось до 2944. Разбили данные на обучающую, валидационную и тестовую выборки в соотношении 3:1:1.\n",
    "\n",
    "Последним шагом в данном пункте выполнили масштабирование признаков методом стандартизации."
   ]
  },
  {
   "cell_type": "markdown",
   "metadata": {},
   "source": [
    "## Исследование задачи"
   ]
  },
  {
   "cell_type": "markdown",
   "metadata": {},
   "source": [
    "Исследуем баланс классов."
   ]
  },
  {
   "cell_type": "code",
   "execution_count": 11,
   "metadata": {},
   "outputs": [
    {
     "data": {
      "text/plain": [
       "0    7963\n",
       "1    2037\n",
       "Name: Exited, dtype: int64"
      ]
     },
     "execution_count": 11,
     "metadata": {},
     "output_type": "execute_result"
    }
   ],
   "source": [
    "target.value_counts()"
   ]
  },
  {
   "cell_type": "markdown",
   "metadata": {},
   "source": [
    "Видим сильный дисбаланс классов в соотношении примерно  8 к 2. Обучим модель без учета дисбаланса и посмотрим на матрицу ошибок."
   ]
  },
  {
   "cell_type": "code",
   "execution_count": 12,
   "metadata": {},
   "outputs": [
    {
     "name": "stdout",
     "output_type": "stream",
     "text": [
      "0.46208112874779533\n"
     ]
    },
    {
     "data": {
      "image/png": "[encoded data removed]",
      "text/plain": [
       "<Figure size 432x288 with 2 Axes>"
      ]
     },
     "metadata": {
      "needs_background": "light"
     },
     "output_type": "display_data"
    }
   ],
   "source": [
    "model = DecisionTreeClassifier(random_state=12345, max_depth=5)\n",
    "model.fit(features_train_scaled, target_train)\n",
    "predicted_valid = model.predict(features_valid_scaled)\n",
    "print(f1_score(target_valid, predicted_valid))\n",
    "cm = confusion_matrix(target_valid, predicted_valid, labels=model.classes_)\n",
    "disp = ConfusionMatrixDisplay(confusion_matrix=cm, display_labels=model.classes_)\n",
    "disp.plot()\n",
    "plt.show()"
   ]
  },
  {
   "cell_type": "markdown",
   "metadata": {},
   "source": [
    "**Вывод по второму шагу:** в данных наблюдается дисбаланс классов, факт неухода/ ухода соотносятся, как ~7~ 8 к 2. После обучения модели, рассматривая матрицу ошибок, можем наблюдать, что предсказаны ~только~ в основном нулевые значения, при этом 1564 из них предсказаны верно, а 276 с ошибкой. Модель работает с F1-метрикой равной 0.46."
   ]
  },
  {
   "cell_type": "markdown",
   "metadata": {},
   "source": [
    "## Борьба с дисбалансом"
   ]
  },
  {
   "cell_type": "markdown",
   "metadata": {},
   "source": [
    "Произведем увеличение выборки, посмотрим, как изменится метрика F1."
   ]
  },
  {
   "cell_type": "code",
   "execution_count": 13,
   "metadata": {
    "collapsed": true,
    "jupyter": {
     "outputs_hidden": true
    },
    "scrolled": true,
    "tags": []
   },
   "outputs": [
    {
     "ename": "TypeError",
     "evalue": "cannot concatenate object of type '<class 'numpy.ndarray'>'; only Series and DataFrame objs are valid",
     "output_type": "error",
     "traceback": [
      "\u001b[0;31m---------------------------------------------------------------------------\u001b[0m",
      "\u001b[0;31mTypeError\u001b[0m                                 Traceback (most recent call last)",
      "\u001b[0;32m/tmp/ipykernel_146/118705037.py\u001b[0m in \u001b[0;36m<module>\u001b[0;34m\u001b[0m\n\u001b[1;32m     13\u001b[0m     \u001b[0;32mreturn\u001b[0m \u001b[0mfeatures_upsampled\u001b[0m\u001b[0;34m,\u001b[0m \u001b[0mtarget_upsampled\u001b[0m\u001b[0;34m\u001b[0m\u001b[0;34m\u001b[0m\u001b[0m\n\u001b[1;32m     14\u001b[0m \u001b[0;34m\u001b[0m\u001b[0m\n\u001b[0;32m---> 15\u001b[0;31m \u001b[0mfeatures_upsampled\u001b[0m\u001b[0;34m,\u001b[0m \u001b[0mtarget_upsampled\u001b[0m \u001b[0;34m=\u001b[0m \u001b[0mupsample\u001b[0m\u001b[0;34m(\u001b[0m\u001b[0mfeatures_train_scaled\u001b[0m\u001b[0;34m,\u001b[0m \u001b[0mtarget_train\u001b[0m\u001b[0;34m,\u001b[0m \u001b[0;36m4\u001b[0m\u001b[0;34m)\u001b[0m\u001b[0;34m\u001b[0m\u001b[0;34m\u001b[0m\u001b[0m\n\u001b[0m\u001b[1;32m     16\u001b[0m \u001b[0mtarget_upsampled\u001b[0m\u001b[0;34m.\u001b[0m\u001b[0mvalue_counts\u001b[0m\u001b[0;34m(\u001b[0m\u001b[0;34m)\u001b[0m\u001b[0;34m\u001b[0m\u001b[0;34m\u001b[0m\u001b[0m\n",
      "\u001b[0;32m/tmp/ipykernel_146/118705037.py\u001b[0m in \u001b[0;36mupsample\u001b[0;34m(features, target, repeat)\u001b[0m\n\u001b[1;32m      5\u001b[0m     \u001b[0mtarget_ones\u001b[0m \u001b[0;34m=\u001b[0m \u001b[0mtarget\u001b[0m\u001b[0;34m[\u001b[0m\u001b[0mtarget\u001b[0m \u001b[0;34m==\u001b[0m \u001b[0;36m1\u001b[0m\u001b[0;34m]\u001b[0m\u001b[0;34m\u001b[0m\u001b[0;34m\u001b[0m\u001b[0m\n\u001b[1;32m      6\u001b[0m \u001b[0;34m\u001b[0m\u001b[0m\n\u001b[0;32m----> 7\u001b[0;31m     \u001b[0mfeatures_upsampled\u001b[0m \u001b[0;34m=\u001b[0m \u001b[0mpd\u001b[0m\u001b[0;34m.\u001b[0m\u001b[0mconcat\u001b[0m\u001b[0;34m(\u001b[0m\u001b[0;34m[\u001b[0m\u001b[0mfeatures_zeros\u001b[0m\u001b[0;34m]\u001b[0m \u001b[0;34m+\u001b[0m \u001b[0;34m[\u001b[0m\u001b[0mfeatures_ones\u001b[0m\u001b[0;34m]\u001b[0m \u001b[0;34m*\u001b[0m \u001b[0mrepeat\u001b[0m\u001b[0;34m)\u001b[0m\u001b[0;34m\u001b[0m\u001b[0;34m\u001b[0m\u001b[0m\n\u001b[0m\u001b[1;32m      8\u001b[0m     \u001b[0mtarget_upsampled\u001b[0m \u001b[0;34m=\u001b[0m \u001b[0mpd\u001b[0m\u001b[0;34m.\u001b[0m\u001b[0mconcat\u001b[0m\u001b[0;34m(\u001b[0m\u001b[0;34m[\u001b[0m\u001b[0mtarget_zeros\u001b[0m\u001b[0;34m]\u001b[0m \u001b[0;34m+\u001b[0m \u001b[0;34m[\u001b[0m\u001b[0mtarget_ones\u001b[0m\u001b[0;34m]\u001b[0m \u001b[0;34m*\u001b[0m \u001b[0mrepeat\u001b[0m\u001b[0;34m)\u001b[0m\u001b[0;34m\u001b[0m\u001b[0;34m\u001b[0m\u001b[0m\n\u001b[1;32m      9\u001b[0m \u001b[0;34m\u001b[0m\u001b[0m\n",
      "\u001b[0;32m/opt/conda/lib/python3.9/site-packages/pandas/core/reshape/concat.py\u001b[0m in \u001b[0;36mconcat\u001b[0;34m(objs, axis, join, ignore_index, keys, levels, names, verify_integrity, sort, copy)\u001b[0m\n\u001b[1;32m    283\u001b[0m     \u001b[0mValueError\u001b[0m\u001b[0;34m:\u001b[0m \u001b[0mIndexes\u001b[0m \u001b[0mhave\u001b[0m \u001b[0moverlapping\u001b[0m \u001b[0mvalues\u001b[0m\u001b[0;34m:\u001b[0m \u001b[0;34m[\u001b[0m\u001b[0;34m'a'\u001b[0m\u001b[0;34m]\u001b[0m\u001b[0;34m\u001b[0m\u001b[0;34m\u001b[0m\u001b[0m\n\u001b[1;32m    284\u001b[0m     \"\"\"\n\u001b[0;32m--> 285\u001b[0;31m     op = _Concatenator(\n\u001b[0m\u001b[1;32m    286\u001b[0m         \u001b[0mobjs\u001b[0m\u001b[0;34m,\u001b[0m\u001b[0;34m\u001b[0m\u001b[0;34m\u001b[0m\u001b[0m\n\u001b[1;32m    287\u001b[0m         \u001b[0maxis\u001b[0m\u001b[0;34m=\u001b[0m\u001b[0maxis\u001b[0m\u001b[0;34m,\u001b[0m\u001b[0;34m\u001b[0m\u001b[0;34m\u001b[0m\u001b[0m\n",
      "\u001b[0;32m/opt/conda/lib/python3.9/site-packages/pandas/core/reshape/concat.py\u001b[0m in \u001b[0;36m__init__\u001b[0;34m(self, objs, axis, join, keys, levels, names, ignore_index, verify_integrity, copy, sort)\u001b[0m\n\u001b[1;32m    368\u001b[0m                     \u001b[0;34m\"only Series and DataFrame objs are valid\"\u001b[0m\u001b[0;34m\u001b[0m\u001b[0;34m\u001b[0m\u001b[0m\n\u001b[1;32m    369\u001b[0m                 )\n\u001b[0;32m--> 370\u001b[0;31m                 \u001b[0;32mraise\u001b[0m \u001b[0mTypeError\u001b[0m\u001b[0;34m(\u001b[0m\u001b[0mmsg\u001b[0m\u001b[0;34m)\u001b[0m\u001b[0;34m\u001b[0m\u001b[0;34m\u001b[0m\u001b[0m\n\u001b[0m\u001b[1;32m    371\u001b[0m \u001b[0;34m\u001b[0m\u001b[0m\n\u001b[1;32m    372\u001b[0m             \u001b[0;31m# consolidate\u001b[0m\u001b[0;34m\u001b[0m\u001b[0;34m\u001b[0m\u001b[0;34m\u001b[0m\u001b[0m\n",
      "\u001b[0;31mTypeError\u001b[0m: cannot concatenate object of type '<class 'numpy.ndarray'>'; only Series and DataFrame objs are valid"
     ]
    }
   ],
   "source": [
    "def upsample(features, target, repeat):\n",
    "    features_zeros = features[target == 0]\n",
    "    features_ones = features[target == 1]\n",
    "    target_zeros = target[target == 0]\n",
    "    target_ones = target[target == 1]\n",
    "\n",
    "    features_upsampled = pd.concat([features_zeros] + [features_ones] * repeat)\n",
    "    target_upsampled = pd.concat([target_zeros] + [target_ones] * repeat)\n",
    "    \n",
    "    features_upsampled, target_upsampled = shuffle(\n",
    "        features_upsampled, target_upsampled, random_state=12345)\n",
    "    \n",
    "    return features_upsampled, target_upsampled\n",
    "\n",
    "features_upsampled, target_upsampled = upsample(features_train_scaled, target_train, 4)\n",
    "target_upsampled.value_counts()"
   ]
  },
  {
   "cell_type": "markdown",
   "metadata": {},
   "source": [
    "Теперь значения целевого показателя соотносятся практически 1 к 1-му. Посмотрим, как изменится `F1-score`."
   ]
  },
  {
   "cell_type": "code",
   "execution_count": null,
   "metadata": {},
   "outputs": [],
   "source": [
    "model = DecisionTreeClassifier(random_state=12345, max_depth=5)\n",
    "model.fit(features_upsampled, target_upsampled)\n",
    "predicted_valid = model.predict(features_valid_scaled)\n",
    "print(\"F1:\", f1_score(target_valid, predicted_valid))"
   ]
  },
  {
   "cell_type": "markdown",
   "metadata": {},
   "source": [
    "Метрика F1 выросла при выравнивании баланса классов. Рассмотрим уменьшение выборки."
   ]
  },
  {
   "cell_type": "code",
   "execution_count": null,
   "metadata": {
    "scrolled": true
   },
   "outputs": [],
   "source": [
    "def downsample(features, target, fraction):\n",
    "    features_zeros = features[target == 0]\n",
    "    features_ones = features[target == 1]\n",
    "    target_zeros = target[target == 0]\n",
    "    target_ones = target[target == 1]\n",
    "\n",
    "    features_downsampled = pd.concat(\n",
    "        [features_zeros.sample(frac=fraction, random_state=12345)] + [features_ones])\n",
    "    target_downsampled = pd.concat(\n",
    "        [target_zeros.sample(frac=fraction, random_state=12345)] + [target_ones])\n",
    "    \n",
    "    features_downsampled, target_downsampled = shuffle(\n",
    "        features_downsampled, target_downsampled, random_state=12345)\n",
    "    \n",
    "    return features_downsampled, target_downsampled\n",
    "\n",
    "features_downsampled, target_downsampled = downsample(features_train_scaled, target_train, 0.26)\n",
    "target_downsampled.value_counts()"
   ]
  },
  {
   "cell_type": "markdown",
   "metadata": {},
   "source": [
    "Теперь значения целевого показателя соотносятся практически 1 к 1-му. Посмотрим, как изменится `F1-score`."
   ]
  },
  {
   "cell_type": "code",
   "execution_count": null,
   "metadata": {},
   "outputs": [],
   "source": [
    "model = DecisionTreeClassifier(random_state=12345, max_depth=5)\n",
    "model.fit(features_downsampled, target_downsampled)\n",
    "predicted_valid = model.predict(features_valid_scaled)\n",
    "print(\"F1:\", f1_score(target_valid, predicted_valid))"
   ]
  },
  {
   "cell_type": "markdown",
   "metadata": {},
   "source": [
    "При увеличении выборки показатель метрики F1 лучше, далее перейдем к выбору наилучшего сочитания модель-размер выборки."
   ]
  },
  {
   "cell_type": "markdown",
   "metadata": {},
   "source": [
    "1. Решающее дерево - downsampling."
   ]
  },
  {
   "cell_type": "code",
   "execution_count": null,
   "metadata": {},
   "outputs": [],
   "source": [
    "best_score = 0\n",
    "best_model = None\n",
    "for depth in range(1, 6):\n",
    "    model = DecisionTreeClassifier(random_state=12345, max_depth=depth)\n",
    "    model.fit(features_downsampled, target_downsampled)\n",
    "    predictions_valid = model.predict(features_valid_scaled)\n",
    "    score = f1_score(target_valid, predictions_valid)\n",
    "    if score > best_score:\n",
    "        best_model = model\n",
    "        best_score = score\n",
    "        best_depth = depth\n",
    "probabilities_valid = model.predict_proba(features_valid_scaled)\n",
    "probabilities_one_valid = probabilities_valid[:, 1]\n",
    "auc_roc = roc_auc_score(target_valid, probabilities_one_valid)\n",
    "\n",
    "best_threshold = 0\n",
    "best_f1 = 0\n",
    "for threshold in np.arange(0, 1, 0.02):\n",
    "    predicted_valid = probabilities_one_valid > threshold\n",
    "    f1 = f1_score(target_valid, predicted_valid)\n",
    "    if f1 > best_f1:\n",
    "        best_f1 = f1\n",
    "        best_threshold = threshold\n",
    "print('F1-score наилучшей модели дерева решений на валидационной выборке:', best_score)\n",
    "print('При максимальной глубине равной', best_depth)\n",
    "print('Лучший F1-score', best_f1, 'при пороге равном', best_threshold)\n",
    "print('ROC_AUC равно', auc_roc)"
   ]
  },
  {
   "cell_type": "markdown",
   "metadata": {},
   "source": [
    "2. Решающее дерево - upsampling."
   ]
  },
  {
   "cell_type": "code",
   "execution_count": null,
   "metadata": {},
   "outputs": [],
   "source": [
    "best_score = 0\n",
    "best_model = None\n",
    "for depth in range(1, 6):\n",
    "    model = DecisionTreeClassifier(random_state=12345, max_depth=depth)\n",
    "    model.fit(features_upsampled, target_upsampled)\n",
    "    predictions_valid = model.predict(features_valid_scaled)\n",
    "    score = f1_score(target_valid, predictions_valid)\n",
    "    if score > best_score:\n",
    "        best_model = model\n",
    "        best_score = score\n",
    "        best_depth = depth\n",
    "probabilities_valid = model.predict_proba(features_valid_scaled)\n",
    "probabilities_one_valid = probabilities_valid[:, 1]\n",
    "auc_roc = roc_auc_score(target_valid, probabilities_one_valid)\n",
    "\n",
    "best_threshold = 0\n",
    "best_f1 = 0\n",
    "for threshold in np.arange(0, 1, 0.02):\n",
    "    predicted_valid = probabilities_one_valid > threshold\n",
    "    f1 = f1_score(target_valid, predicted_valid)\n",
    "    if f1 > best_f1:\n",
    "        best_f1 = f1\n",
    "        best_threshold = threshold\n",
    "print('F1-score наилучшей модели дерева решений на валидационной выборке:', best_score)\n",
    "print('При максимальной глубине равной', best_depth)\n",
    "print('Лучший F1-score', best_f1, 'при пороге равном', best_threshold)\n",
    "print('ROC_AUC равно', auc_roc)"
   ]
  },
  {
   "cell_type": "markdown",
   "metadata": {},
   "source": [
    "3. Cлучайный лес - downsampling."
   ]
  },
  {
   "cell_type": "code",
   "execution_count": null,
   "metadata": {
    "scrolled": true
   },
   "outputs": [],
   "source": [
    "best_score = 0\n",
    "best_model = None\n",
    "for est in range(1, 7):\n",
    "    for depth in range(1,7):\n",
    "        model = RandomForestClassifier(random_state=12345, n_estimators=est, max_depth=depth)\n",
    "        model.fit(features_downsampled, target_downsampled)\n",
    "        predictions_valid_f = model.predict(features_valid_scaled)\n",
    "        score = f1_score(target_valid, predictions_valid_f)\n",
    "        if score > best_score:\n",
    "            best_model = model\n",
    "            best_score = score\n",
    "            best_est = est\n",
    "            best_depth = depth\n",
    "probabilities_valid = model.predict_proba(features_valid_scaled)\n",
    "probabilities_one_valid = probabilities_valid[:, 1]\n",
    "auc_roc = roc_auc_score(target_valid, probabilities_one_valid)\n",
    "\n",
    "\n",
    "best_threshold = 0\n",
    "best_f1 = 0\n",
    "for threshold in np.arange(0, 1, 0.02):\n",
    "    predicted_valid = probabilities_one_valid > threshold\n",
    "    f1 = f1_score(target_valid, predicted_valid)\n",
    "    if f1 > best_f1:\n",
    "        best_f1 = f1\n",
    "        best_threshold = threshold\n",
    "print('F1-score наилучшей модели случайного леса на валидационной выборке:', best_score)\n",
    "print('При числе деревьев равном', best_est)\n",
    "print('При максимальной глубине равной', best_depth)\n",
    "print('Лучший F1-score', best_f1, 'при пороге равном', best_threshold)\n",
    "print('ROC_AUC равно', auc_roc)"
   ]
  },
  {
   "cell_type": "markdown",
   "metadata": {},
   "source": [
    "4. Cлучайный лес - upsampling."
   ]
  },
  {
   "cell_type": "code",
   "execution_count": 1,
   "metadata": {
    "collapsed": true,
    "jupyter": {
     "outputs_hidden": true
    },
    "scrolled": true,
    "tags": []
   },
   "outputs": [
    {
     "ename": "NameError",
     "evalue": "name 'RandomForestClassifier' is not defined",
     "output_type": "error",
     "traceback": [
      "\u001b[1;31m---------------------------------------------------------------------------\u001b[0m",
      "\u001b[1;31mNameError\u001b[0m                                 Traceback (most recent call last)",
      "\u001b[1;32m~\\AppData\\Local\\Temp/ipykernel_5328/1390282432.py\u001b[0m in \u001b[0;36m<module>\u001b[1;34m\u001b[0m\n\u001b[0;32m      3\u001b[0m \u001b[1;32mfor\u001b[0m \u001b[0mest\u001b[0m \u001b[1;32min\u001b[0m \u001b[0mrange\u001b[0m\u001b[1;33m(\u001b[0m\u001b[1;36m1\u001b[0m\u001b[1;33m,\u001b[0m \u001b[1;36m7\u001b[0m\u001b[1;33m)\u001b[0m\u001b[1;33m:\u001b[0m\u001b[1;33m\u001b[0m\u001b[1;33m\u001b[0m\u001b[0m\n\u001b[0;32m      4\u001b[0m     \u001b[1;32mfor\u001b[0m \u001b[0mdepth\u001b[0m \u001b[1;32min\u001b[0m \u001b[0mrange\u001b[0m\u001b[1;33m(\u001b[0m\u001b[1;36m1\u001b[0m\u001b[1;33m,\u001b[0m \u001b[1;36m7\u001b[0m\u001b[1;33m)\u001b[0m\u001b[1;33m:\u001b[0m\u001b[1;33m\u001b[0m\u001b[1;33m\u001b[0m\u001b[0m\n\u001b[1;32m----> 5\u001b[1;33m         \u001b[0mmodel\u001b[0m \u001b[1;33m=\u001b[0m \u001b[0mRandomForestClassifier\u001b[0m\u001b[1;33m(\u001b[0m\u001b[0mrandom_state\u001b[0m\u001b[1;33m=\u001b[0m\u001b[1;36m12345\u001b[0m\u001b[1;33m,\u001b[0m \u001b[0mn_estimators\u001b[0m\u001b[1;33m=\u001b[0m\u001b[0mest\u001b[0m\u001b[1;33m,\u001b[0m \u001b[0mmax_depth\u001b[0m\u001b[1;33m=\u001b[0m\u001b[0mdepth\u001b[0m\u001b[1;33m)\u001b[0m\u001b[1;33m\u001b[0m\u001b[1;33m\u001b[0m\u001b[0m\n\u001b[0m\u001b[0;32m      6\u001b[0m         \u001b[0mmodel\u001b[0m\u001b[1;33m.\u001b[0m\u001b[0mfit\u001b[0m\u001b[1;33m(\u001b[0m\u001b[0mfeatures_upsampled\u001b[0m\u001b[1;33m,\u001b[0m \u001b[0mtarget_upsampled\u001b[0m\u001b[1;33m)\u001b[0m\u001b[1;33m\u001b[0m\u001b[1;33m\u001b[0m\u001b[0m\n\u001b[0;32m      7\u001b[0m         \u001b[0mpredictions_valid_f\u001b[0m \u001b[1;33m=\u001b[0m \u001b[0mmodel\u001b[0m\u001b[1;33m.\u001b[0m\u001b[0mpredict\u001b[0m\u001b[1;33m(\u001b[0m\u001b[0mfeatures_valid_scaled\u001b[0m\u001b[1;33m)\u001b[0m\u001b[1;33m\u001b[0m\u001b[1;33m\u001b[0m\u001b[0m\n",
      "\u001b[1;31mNameError\u001b[0m: name 'RandomForestClassifier' is not defined"
     ]
    }
   ],
   "source": [
    "best_score = 0\n",
    "best_model = None\n",
    "for est in range(1, 7):\n",
    "    for depth in range(1, 7):\n",
    "        model = RandomForestClassifier(random_state=12345, n_estimators=est, max_depth=depth)\n",
    "        model.fit(features_upsampled, target_upsampled)\n",
    "        predictions_valid_f = model.predict(features_valid_scaled)\n",
    "        score = f1_score(target_valid, predictions_valid_f)\n",
    "        if score > best_score:\n",
    "            best_model = model\n",
    "            best_score = score\n",
    "            best_est = est\n",
    "            best_depth = depth\n",
    "probabilities_valid = model.predict_proba(features_valid_scaled)\n",
    "probabilities_one_valid = probabilities_valid[:, 1]\n",
    "auc_roc = roc_auc_score(target_valid, probabilities_one_valid)\n",
    "\n",
    "\n",
    "best_threshold = 0\n",
    "best_f1 = 0\n",
    "for threshold in np.arange(0, 1, 0.02):\n",
    "    predicted_valid = probabilities_one_valid > threshold\n",
    "    f1 = f1_score(target_valid, predicted_valid)\n",
    "    if f1 > best_f1:\n",
    "        best_f1 = f1\n",
    "        best_threshold = threshold\n",
    "print('F1-score наилучшей модели случайного леса на валидационной выборке:', best_score)\n",
    "print('При числе деревьев равном', best_est)\n",
    "print('При максимальной глубине равной', best_depth)\n",
    "print('Лучший F1-score', best_f1, 'при пороге равном', best_threshold)\n",
    "print('ROC_AUC равно', auc_roc)"
   ]
  },
  {
   "cell_type": "markdown",
   "metadata": {},
   "source": [
    "**Вывод по третьему шагу:** избавились от дисбаланса, определив, что лучшее значение метрики F1 будет при увеличении выборки. Далее выбрали наилучшую модель, которой явилась модель случайного дерева *с уменьшенной выборкой*, с F1-score равным 0.595, при смещении порога до 0.58. ROC_AUC при этом равна 0.84."
   ]
  },
  {
   "cell_type": "markdown",
   "metadata": {},
   "source": [
    "## Тестирование модели"
   ]
  },
  {
   "cell_type": "code",
   "execution_count": null,
   "metadata": {},
   "outputs": [],
   "source": [
    "model = DecisionTreeClassifier(random_state=12345, max_depth=5)\n",
    "model.fit(features_downsampled, target_downsampled)\n",
    "predictions_test = model.predict(features_test_scaledt)\n",
    "\n",
    "probabilities_test = model.predict_proba(features_test_scaled)\n",
    "probabilities_one_test = probabilities_test[:, 1]\n",
    "auc_roc = roc_auc_score(target_test, probabilities_one_test)\n",
    "\n",
    "predicted_test = probabilities_one_test > 0.58\n",
    "f1 = f1_score(target_test, predicted_test)\n",
    "\n",
    "print('Лучший F1-score на тестовой выборке:', f1)\n",
    "print('ROC_AUC равно', auc_roc)\n",
    "\n",
    "fpr, tpr, thresholds = roc_curve(target_test, probabilities_one_test)\n",
    "\n",
    "plt.figure()\n",
    "plt.plot(fpr, tpr)\n",
    "plt.plot([0, 1], [0, 1], linestyle='--')\n",
    "plt.xlim([0.0, 1.0])\n",
    "plt.ylim([0.0, 1.0])\n",
    "plt.xlabel('False Positive Rate')\n",
    "plt.ylabel('True Positive Rate')\n",
    "plt.title('ROC-кривая')\n",
    "plt.show()"
   ]
  },
  {
   "cell_type": "markdown",
   "metadata": {},
   "source": [
    "**Вывод по четвертому шагу:** на тестовой выборке при наилучших гиперпараметрах значение F1-score осталось более 0.59. ROC_AUC равно 0.84. При этом на графике видим, что ROC-кривая значительно отходит от случайной модели и покрывает большую площадь(0.84)."
   ]
  },
  {
   "cell_type": "markdown",
   "metadata": {},
   "source": [
    "## Общий вывод"
   ]
  },
  {
   "cell_type": "markdown",
   "metadata": {},
   "source": [
    "**Вывод:** открыли и изучили файл с данными. Датафрейм, содержащий информацию о поведении клиентов, состоит из 14 столбцов и 10000 строк, тип данных в которых: int64 (8 столбцов), float64 (3 столбца), object(3 столбца). \n",
    "Далее строки, которые содержали значения `nan` заполнили случайными значениями в интервале от минимального до максимального значения по данному столбцу. Провели прямое кодирование признаков, после чего количество стобцов с данными увеличилось до 2944. Разбили данные на обучающую, валидационную и тестовую выборки в соотношении 3:1:1. Затем выполнили масштабирование признаков методом стандартизации.\n",
    "\n",
    "В данных наблюдается дисбаланс классов, факт неухода/ ухода соотносятся, как 8 к 2. После обучения модели дерева решений, рассматривая матрицу ошибок, можем наблюдать, что предсказаны в основном нулевые значения, при этом 1564 из них предсказаны верно, а 276 с ошибкой. Модель работает с F1-метрикой равной 0.46.\n",
    "\n",
    "Избавились от дисбаланса, определив, что лучшее значение метрики F1 будет при увеличении выборки, однако наилучшая модель, которой явилась модель случайного дерева, с F1-score равным 0.59, при смещении порога до 0.54, получила такие параметры при уменьшении выборки. ROC_AUC при этом равна 0.84.\n",
    "\n",
    "На тестовой выборке при наилучших гиперпараметрах значение F1-score осталось более 0.59. ROC_AUC равно 0.84. При этом на графике видим, что ROC-кривая значительно отходит от случайной модели и покрывает большую площадь(0.84), что свидетельствует о большом значении правильно предсказанных положительных значениях целевого признака."
   ]
  },
  {
   "cell_type": "markdown",
   "metadata": {},
   "source": [
    "## Чек-лист готовности проекта"
   ]
  },
  {
   "cell_type": "markdown",
   "metadata": {},
   "source": [
    "- [x]  Jupyter Notebook открыт\n",
    "- [x]  Весь код выполняется без ошибок\n",
    "- [x]  Ячейки с кодом расположены в порядке исполнения\n",
    "- [x]  Выполнен шаг 1: данные подготовлены\n",
    "- [x]  Выполнен шаг 2: задача исследована\n",
    "    - [x]  Исследован баланс классов\n",
    "    - [x]  Изучены модели без учёта дисбаланса\n",
    "    - [x]  Написаны выводы по результатам исследования\n",
    "- [x]  Выполнен шаг 3: учтён дисбаланс\n",
    "    - [x]  Применено несколько способов борьбы с дисбалансом\n",
    "    - [x]  Написаны выводы по результатам исследования\n",
    "- [x]  Выполнен шаг 4: проведено тестирование\n",
    "- [x]  Удалось достичь *F1*-меры не менее 0.59\n",
    "- [x]  Исследована метрика *AUC-ROC*"
   ]
  },
  {
   "cell_type": "code",
   "execution_count": null,
   "metadata": {},
   "outputs": [],
   "source": []
  }
 ],
 "metadata": {
  "ExecuteTimeLog": [
   {
    "duration": 664,
    "start_time": "2023-08-05T16:37:55.051Z"
   },
   {
    "duration": 724,
    "start_time": "2023-08-05T16:37:56.529Z"
   },
   {
    "duration": 44,
    "start_time": "2023-08-05T16:38:10.006Z"
   },
   {
    "duration": 33,
    "start_time": "2023-08-05T16:38:26.701Z"
   },
   {
    "duration": 5,
    "start_time": "2023-08-05T16:41:38.944Z"
   },
   {
    "duration": 1880,
    "start_time": "2023-08-05T16:45:26.260Z"
   },
   {
    "duration": 24,
    "start_time": "2023-08-05T16:48:10.651Z"
   },
   {
    "duration": 201,
    "start_time": "2023-08-05T16:50:22.809Z"
   },
   {
    "duration": 20,
    "start_time": "2023-08-05T16:51:25.133Z"
   },
   {
    "duration": 46,
    "start_time": "2023-08-05T16:55:30.083Z"
   },
   {
    "duration": 26,
    "start_time": "2023-08-05T16:55:53.752Z"
   },
   {
    "duration": 43,
    "start_time": "2023-08-05T16:56:12.244Z"
   },
   {
    "duration": 73,
    "start_time": "2023-08-05T16:56:18.971Z"
   },
   {
    "duration": 5525,
    "start_time": "2023-08-05T16:56:57.839Z"
   },
   {
    "duration": 17,
    "start_time": "2023-08-05T17:00:58.626Z"
   },
   {
    "duration": 929,
    "start_time": "2023-08-05T17:01:07.221Z"
   },
   {
    "duration": 47,
    "start_time": "2023-08-05T17:01:12.581Z"
   },
   {
    "duration": 53,
    "start_time": "2023-08-05T17:01:18.487Z"
   },
   {
    "duration": 21,
    "start_time": "2023-08-05T17:02:22.128Z"
   },
   {
    "duration": 34,
    "start_time": "2023-08-05T17:02:41.505Z"
   },
   {
    "duration": 32,
    "start_time": "2023-08-05T17:03:21.297Z"
   },
   {
    "duration": 35,
    "start_time": "2023-08-05T17:04:09.952Z"
   },
   {
    "duration": 7,
    "start_time": "2023-08-05T17:04:42.721Z"
   },
   {
    "duration": 30,
    "start_time": "2023-08-05T17:12:16.277Z"
   },
   {
    "duration": 6,
    "start_time": "2023-08-05T17:12:37.193Z"
   },
   {
    "duration": 56,
    "start_time": "2023-08-05T17:14:22.454Z"
   },
   {
    "duration": 221,
    "start_time": "2023-08-05T17:20:27.428Z"
   },
   {
    "duration": 21,
    "start_time": "2023-08-05T17:20:37.281Z"
   },
   {
    "duration": 233,
    "start_time": "2023-08-05T17:20:39.586Z"
   },
   {
    "duration": 13,
    "start_time": "2023-08-05T17:20:41.023Z"
   },
   {
    "duration": 21,
    "start_time": "2023-08-05T17:21:00.130Z"
   },
   {
    "duration": 2785,
    "start_time": "2023-08-05T17:21:25.785Z"
   },
   {
    "duration": 9,
    "start_time": "2023-08-05T17:21:28.576Z"
   },
   {
    "duration": 64,
    "start_time": "2023-08-05T17:21:28.587Z"
   },
   {
    "duration": 36,
    "start_time": "2023-08-05T17:21:28.654Z"
   },
   {
    "duration": 34,
    "start_time": "2023-08-05T17:21:28.692Z"
   },
   {
    "duration": 256,
    "start_time": "2023-08-05T17:21:28.727Z"
   },
   {
    "duration": 25,
    "start_time": "2023-08-05T17:21:28.991Z"
   },
   {
    "duration": 28,
    "start_time": "2023-08-05T17:21:32.208Z"
   },
   {
    "duration": 333,
    "start_time": "2023-08-05T17:21:56.084Z"
   },
   {
    "duration": 2727,
    "start_time": "2023-08-05T17:22:00.209Z"
   },
   {
    "duration": 4,
    "start_time": "2023-08-05T17:22:02.939Z"
   },
   {
    "duration": 79,
    "start_time": "2023-08-05T17:22:02.944Z"
   },
   {
    "duration": 14,
    "start_time": "2023-08-05T17:22:03.025Z"
   },
   {
    "duration": 28,
    "start_time": "2023-08-05T17:22:03.041Z"
   },
   {
    "duration": 362,
    "start_time": "2023-08-05T17:22:03.071Z"
   },
   {
    "duration": 16,
    "start_time": "2023-08-05T17:22:03.436Z"
   },
   {
    "duration": 250,
    "start_time": "2023-08-05T17:22:17.581Z"
   },
   {
    "duration": 22,
    "start_time": "2023-08-05T17:22:19.301Z"
   },
   {
    "duration": 27,
    "start_time": "2023-08-05T17:22:21.332Z"
   },
   {
    "duration": 334,
    "start_time": "2023-08-05T17:23:58.490Z"
   },
   {
    "duration": 291,
    "start_time": "2023-08-05T17:24:38.438Z"
   },
   {
    "duration": 490,
    "start_time": "2023-08-05T17:24:43.038Z"
   },
   {
    "duration": 2468,
    "start_time": "2023-08-05T17:25:19.178Z"
   },
   {
    "duration": 4,
    "start_time": "2023-08-05T17:25:21.648Z"
   },
   {
    "duration": 53,
    "start_time": "2023-08-05T17:25:21.654Z"
   },
   {
    "duration": 14,
    "start_time": "2023-08-05T17:25:21.709Z"
   },
   {
    "duration": 16,
    "start_time": "2023-08-05T17:25:21.726Z"
   },
   {
    "duration": 383,
    "start_time": "2023-08-05T17:25:21.744Z"
   },
   {
    "duration": 13,
    "start_time": "2023-08-05T17:25:22.129Z"
   },
   {
    "duration": 58,
    "start_time": "2023-08-05T17:25:22.144Z"
   },
   {
    "duration": 8,
    "start_time": "2023-08-05T17:25:54.763Z"
   },
   {
    "duration": 39,
    "start_time": "2023-08-05T17:25:55.799Z"
   },
   {
    "duration": 25,
    "start_time": "2023-08-05T17:25:57.191Z"
   },
   {
    "duration": 26,
    "start_time": "2023-08-05T17:25:59.253Z"
   },
   {
    "duration": 264,
    "start_time": "2023-08-05T17:26:01.099Z"
   },
   {
    "duration": 255,
    "start_time": "2023-08-05T17:26:10.027Z"
   },
   {
    "duration": 125,
    "start_time": "2023-08-05T17:26:22.508Z"
   },
   {
    "duration": 415,
    "start_time": "2023-08-05T17:26:31.975Z"
   },
   {
    "duration": 7,
    "start_time": "2023-08-05T17:28:13.603Z"
   },
   {
    "duration": 20,
    "start_time": "2023-08-05T17:31:29.581Z"
   },
   {
    "duration": 6,
    "start_time": "2023-08-05T17:31:37.523Z"
   },
   {
    "duration": 312,
    "start_time": "2023-08-05T17:31:38.946Z"
   },
   {
    "duration": 176,
    "start_time": "2023-08-05T17:31:42.243Z"
   },
   {
    "duration": 8,
    "start_time": "2023-08-05T17:31:57.100Z"
   },
   {
    "duration": 19,
    "start_time": "2023-08-05T17:32:17.525Z"
   },
   {
    "duration": 19,
    "start_time": "2023-08-05T17:32:27.016Z"
   },
   {
    "duration": 16,
    "start_time": "2023-08-05T17:32:34.130Z"
   },
   {
    "duration": 29,
    "start_time": "2023-08-05T17:32:48.588Z"
   },
   {
    "duration": 14,
    "start_time": "2023-08-05T17:32:58.032Z"
   },
   {
    "duration": 5,
    "start_time": "2023-08-05T17:33:09.934Z"
   },
   {
    "duration": 14,
    "start_time": "2023-08-05T17:33:58.068Z"
   },
   {
    "duration": 273,
    "start_time": "2023-08-05T17:33:59.922Z"
   },
   {
    "duration": 215,
    "start_time": "2023-08-05T17:34:00.885Z"
   },
   {
    "duration": 5,
    "start_time": "2023-08-05T17:34:15.811Z"
   },
   {
    "duration": 27,
    "start_time": "2023-08-05T17:34:16.977Z"
   },
   {
    "duration": 7,
    "start_time": "2023-08-05T17:34:23.874Z"
   },
   {
    "duration": 30,
    "start_time": "2023-08-05T17:34:24.987Z"
   },
   {
    "duration": 5,
    "start_time": "2023-08-05T17:34:27.885Z"
   },
   {
    "duration": 76,
    "start_time": "2023-08-05T17:34:27.895Z"
   },
   {
    "duration": 30,
    "start_time": "2023-08-05T17:34:27.974Z"
   },
   {
    "duration": 35,
    "start_time": "2023-08-05T17:34:28.009Z"
   },
   {
    "duration": 10,
    "start_time": "2023-08-05T17:34:28.049Z"
   },
   {
    "duration": 44,
    "start_time": "2023-08-05T17:34:28.065Z"
   },
   {
    "duration": 256,
    "start_time": "2023-08-05T17:34:31.221Z"
   },
   {
    "duration": 179,
    "start_time": "2023-08-05T17:34:33.284Z"
   },
   {
    "duration": 501,
    "start_time": "2023-08-05T17:34:43.536Z"
   },
   {
    "duration": 4,
    "start_time": "2023-08-05T17:37:23.109Z"
   },
   {
    "duration": 5,
    "start_time": "2023-08-05T17:38:35.647Z"
   },
   {
    "duration": 3,
    "start_time": "2023-08-05T17:39:24.016Z"
   },
   {
    "duration": 704,
    "start_time": "2023-08-05T17:44:34.906Z"
   },
   {
    "duration": 48,
    "start_time": "2023-08-06T09:20:22.106Z"
   },
   {
    "duration": 367,
    "start_time": "2023-08-06T09:20:27.456Z"
   },
   {
    "duration": 0,
    "start_time": "2023-08-06T09:20:27.825Z"
   },
   {
    "duration": 0,
    "start_time": "2023-08-06T09:20:27.826Z"
   },
   {
    "duration": 0,
    "start_time": "2023-08-06T09:20:27.827Z"
   },
   {
    "duration": 0,
    "start_time": "2023-08-06T09:20:27.828Z"
   },
   {
    "duration": 0,
    "start_time": "2023-08-06T09:20:27.829Z"
   },
   {
    "duration": 0,
    "start_time": "2023-08-06T09:20:27.829Z"
   },
   {
    "duration": 0,
    "start_time": "2023-08-06T09:20:27.830Z"
   },
   {
    "duration": 0,
    "start_time": "2023-08-06T09:20:27.831Z"
   },
   {
    "duration": 0,
    "start_time": "2023-08-06T09:20:27.832Z"
   },
   {
    "duration": 2878,
    "start_time": "2023-08-06T09:21:07.171Z"
   },
   {
    "duration": 1432,
    "start_time": "2023-08-06T09:21:10.051Z"
   },
   {
    "duration": 3,
    "start_time": "2023-08-06T09:21:11.485Z"
   },
   {
    "duration": 102,
    "start_time": "2023-08-06T09:21:11.490Z"
   },
   {
    "duration": 16,
    "start_time": "2023-08-06T09:21:11.594Z"
   },
   {
    "duration": 30,
    "start_time": "2023-08-06T09:21:11.612Z"
   },
   {
    "duration": 4,
    "start_time": "2023-08-06T09:21:11.644Z"
   },
   {
    "duration": 22,
    "start_time": "2023-08-06T09:21:11.650Z"
   },
   {
    "duration": 236,
    "start_time": "2023-08-06T09:21:11.674Z"
   },
   {
    "duration": 103,
    "start_time": "2023-08-06T09:21:11.912Z"
   },
   {
    "duration": 619,
    "start_time": "2023-08-06T09:21:12.017Z"
   },
   {
    "duration": 5,
    "start_time": "2023-08-06T09:21:12.638Z"
   },
   {
    "duration": 5,
    "start_time": "2023-08-06T09:21:24.460Z"
   },
   {
    "duration": 4,
    "start_time": "2023-08-06T09:21:28.559Z"
   },
   {
    "duration": 4,
    "start_time": "2023-08-06T09:21:34.113Z"
   },
   {
    "duration": 4,
    "start_time": "2023-08-06T09:21:40.391Z"
   },
   {
    "duration": 4,
    "start_time": "2023-08-06T09:21:47.389Z"
   },
   {
    "duration": 3,
    "start_time": "2023-08-06T10:13:35.476Z"
   },
   {
    "duration": 3888,
    "start_time": "2023-08-06T10:18:56.351Z"
   },
   {
    "duration": 3,
    "start_time": "2023-08-06T10:19:10.495Z"
   },
   {
    "duration": 2982,
    "start_time": "2023-08-06T10:19:14.032Z"
   },
   {
    "duration": 3396,
    "start_time": "2023-08-06T10:19:27.548Z"
   },
   {
    "duration": 4,
    "start_time": "2023-08-06T10:20:00.045Z"
   },
   {
    "duration": 3073,
    "start_time": "2023-08-06T10:20:03.890Z"
   },
   {
    "duration": 5,
    "start_time": "2023-08-06T10:44:38.150Z"
   },
   {
    "duration": 5,
    "start_time": "2023-08-06T10:44:43.605Z"
   },
   {
    "duration": 447,
    "start_time": "2023-08-06T12:49:57.713Z"
   },
   {
    "duration": 2838,
    "start_time": "2023-08-06T12:50:04.588Z"
   },
   {
    "duration": 1309,
    "start_time": "2023-08-06T12:50:08.197Z"
   },
   {
    "duration": 1854,
    "start_time": "2023-08-06T12:50:20.501Z"
   },
   {
    "duration": 4,
    "start_time": "2023-08-06T12:50:22.357Z"
   },
   {
    "duration": 7,
    "start_time": "2023-08-06T12:50:22.362Z"
   },
   {
    "duration": 162,
    "start_time": "2023-08-06T12:50:22.371Z"
   },
   {
    "duration": 14,
    "start_time": "2023-08-06T12:50:22.535Z"
   },
   {
    "duration": 20,
    "start_time": "2023-08-06T12:50:22.551Z"
   },
   {
    "duration": 4,
    "start_time": "2023-08-06T12:50:22.573Z"
   },
   {
    "duration": 10,
    "start_time": "2023-08-06T12:50:22.579Z"
   },
   {
    "duration": 255,
    "start_time": "2023-08-06T12:50:22.590Z"
   },
   {
    "duration": 117,
    "start_time": "2023-08-06T12:50:22.848Z"
   },
   {
    "duration": 577,
    "start_time": "2023-08-06T12:50:22.967Z"
   },
   {
    "duration": 5,
    "start_time": "2023-08-06T12:50:23.546Z"
   },
   {
    "duration": 3948,
    "start_time": "2023-08-06T12:50:46.955Z"
   },
   {
    "duration": 887,
    "start_time": "2023-08-06T12:56:21.250Z"
   },
   {
    "duration": 61,
    "start_time": "2023-08-06T12:56:57.408Z"
   },
   {
    "duration": 796,
    "start_time": "2023-08-06T12:57:01.742Z"
   },
   {
    "duration": 792,
    "start_time": "2023-08-06T12:57:07.173Z"
   },
   {
    "duration": 6,
    "start_time": "2023-08-06T12:57:18.185Z"
   },
   {
    "duration": 9,
    "start_time": "2023-08-06T12:57:24.178Z"
   },
   {
    "duration": 6,
    "start_time": "2023-08-06T12:57:26.740Z"
   },
   {
    "duration": 6,
    "start_time": "2023-08-06T12:57:28.604Z"
   },
   {
    "duration": 6,
    "start_time": "2023-08-06T12:57:30.790Z"
   },
   {
    "duration": 4,
    "start_time": "2023-08-06T12:58:07.278Z"
   },
   {
    "duration": 5,
    "start_time": "2023-08-06T12:59:14.722Z"
   },
   {
    "duration": 7,
    "start_time": "2023-08-06T12:59:21.174Z"
   },
   {
    "duration": 8,
    "start_time": "2023-08-06T13:01:01.218Z"
   },
   {
    "duration": 26,
    "start_time": "2023-08-06T13:01:21.879Z"
   },
   {
    "duration": 7,
    "start_time": "2023-08-06T13:02:22.974Z"
   },
   {
    "duration": 6,
    "start_time": "2023-08-06T13:02:39.086Z"
   },
   {
    "duration": 6,
    "start_time": "2023-08-06T13:02:47.517Z"
   },
   {
    "duration": 6,
    "start_time": "2023-08-06T13:02:53.500Z"
   },
   {
    "duration": 8,
    "start_time": "2023-08-06T13:03:03.562Z"
   },
   {
    "duration": 47,
    "start_time": "2023-08-06T13:09:16.809Z"
   },
   {
    "duration": 3,
    "start_time": "2023-08-06T13:09:33.596Z"
   },
   {
    "duration": 99,
    "start_time": "2023-08-06T13:09:37.998Z"
   },
   {
    "duration": 82,
    "start_time": "2023-08-06T13:09:55.111Z"
   },
   {
    "duration": 100,
    "start_time": "2023-08-06T13:10:02.391Z"
   },
   {
    "duration": 122,
    "start_time": "2023-08-06T13:10:05.982Z"
   },
   {
    "duration": 108,
    "start_time": "2023-08-06T13:10:09.771Z"
   },
   {
    "duration": 617,
    "start_time": "2023-08-06T13:11:30.774Z"
   },
   {
    "duration": 61,
    "start_time": "2023-08-06T13:14:44.621Z"
   },
   {
    "duration": 68,
    "start_time": "2023-08-06T13:14:49.805Z"
   },
   {
    "duration": 68,
    "start_time": "2023-08-06T13:14:54.174Z"
   },
   {
    "duration": 60,
    "start_time": "2023-08-06T13:14:59.541Z"
   },
   {
    "duration": 58,
    "start_time": "2023-08-06T13:15:03.369Z"
   },
   {
    "duration": 51,
    "start_time": "2023-08-06T13:15:06.976Z"
   },
   {
    "duration": 52,
    "start_time": "2023-08-06T13:15:09.250Z"
   },
   {
    "duration": 53,
    "start_time": "2023-08-06T13:15:13.594Z"
   },
   {
    "duration": 52,
    "start_time": "2023-08-06T13:15:17.002Z"
   },
   {
    "duration": 263,
    "start_time": "2023-08-06T13:15:52.409Z"
   },
   {
    "duration": 2848,
    "start_time": "2023-08-06T14:31:38.880Z"
   },
   {
    "duration": 1590,
    "start_time": "2023-08-06T14:31:41.730Z"
   },
   {
    "duration": 3,
    "start_time": "2023-08-06T14:31:43.322Z"
   },
   {
    "duration": 96,
    "start_time": "2023-08-06T14:31:43.327Z"
   },
   {
    "duration": 14,
    "start_time": "2023-08-06T14:31:43.424Z"
   },
   {
    "duration": 20,
    "start_time": "2023-08-06T14:31:43.440Z"
   },
   {
    "duration": 5,
    "start_time": "2023-08-06T14:31:43.461Z"
   },
   {
    "duration": 44,
    "start_time": "2023-08-06T14:31:43.468Z"
   },
   {
    "duration": 236,
    "start_time": "2023-08-06T14:31:43.514Z"
   },
   {
    "duration": 121,
    "start_time": "2023-08-06T14:31:43.752Z"
   },
   {
    "duration": 614,
    "start_time": "2023-08-06T14:31:43.875Z"
   },
   {
    "duration": 6,
    "start_time": "2023-08-06T14:31:44.491Z"
   },
   {
    "duration": 5448,
    "start_time": "2023-08-06T14:31:44.498Z"
   },
   {
    "duration": 140,
    "start_time": "2023-08-06T14:31:49.948Z"
   },
   {
    "duration": 619,
    "start_time": "2023-08-06T14:31:50.090Z"
   },
   {
    "duration": 247,
    "start_time": "2023-08-06T14:31:50.712Z"
   },
   {
    "duration": 755,
    "start_time": "2023-08-06T14:34:18.625Z"
   },
   {
    "duration": 616,
    "start_time": "2023-08-06T14:34:29.093Z"
   },
   {
    "duration": 573,
    "start_time": "2023-08-06T14:34:52.744Z"
   },
   {
    "duration": 10098,
    "start_time": "2023-08-06T14:36:42.624Z"
   },
   {
    "duration": 23988,
    "start_time": "2023-08-06T14:37:19.838Z"
   },
   {
    "duration": 10003,
    "start_time": "2023-08-06T14:37:59.815Z"
   },
   {
    "duration": 30138,
    "start_time": "2023-08-06T14:39:52.672Z"
   },
   {
    "duration": 3,
    "start_time": "2023-08-06T14:42:25.411Z"
   },
   {
    "duration": 102,
    "start_time": "2023-08-06T14:42:28.161Z"
   },
   {
    "duration": 78,
    "start_time": "2023-08-06T14:44:02.128Z"
   },
   {
    "duration": 102,
    "start_time": "2023-08-06T14:44:15.759Z"
   },
   {
    "duration": 69,
    "start_time": "2023-08-06T14:44:25.176Z"
   },
   {
    "duration": 111,
    "start_time": "2023-08-06T14:45:39.485Z"
   },
   {
    "duration": 1957,
    "start_time": "2023-08-06T14:45:50.777Z"
   },
   {
    "duration": 5,
    "start_time": "2023-08-06T14:45:52.736Z"
   },
   {
    "duration": 18,
    "start_time": "2023-08-06T14:45:52.743Z"
   },
   {
    "duration": 77,
    "start_time": "2023-08-06T14:45:52.764Z"
   },
   {
    "duration": 17,
    "start_time": "2023-08-06T14:45:52.843Z"
   },
   {
    "duration": 22,
    "start_time": "2023-08-06T14:45:52.863Z"
   },
   {
    "duration": 31,
    "start_time": "2023-08-06T14:45:52.887Z"
   },
   {
    "duration": 46,
    "start_time": "2023-08-06T14:45:52.920Z"
   },
   {
    "duration": 231,
    "start_time": "2023-08-06T14:45:52.968Z"
   },
   {
    "duration": 110,
    "start_time": "2023-08-06T14:45:53.201Z"
   },
   {
    "duration": 628,
    "start_time": "2023-08-06T14:45:53.313Z"
   },
   {
    "duration": 5,
    "start_time": "2023-08-06T14:45:53.943Z"
   },
   {
    "duration": 3689,
    "start_time": "2023-08-06T14:45:53.949Z"
   },
   {
    "duration": 117,
    "start_time": "2023-08-06T14:45:57.639Z"
   },
   {
    "duration": 638,
    "start_time": "2023-08-06T14:46:01.877Z"
   },
   {
    "duration": 63,
    "start_time": "2023-08-06T14:46:07.754Z"
   },
   {
    "duration": 257,
    "start_time": "2023-08-06T14:46:09.355Z"
   },
   {
    "duration": 625,
    "start_time": "2023-08-06T14:46:16.297Z"
   },
   {
    "duration": 10513,
    "start_time": "2023-08-06T14:46:19.890Z"
   },
   {
    "duration": 20269,
    "start_time": "2023-08-06T14:46:31.658Z"
   },
   {
    "duration": 2050,
    "start_time": "2023-08-06T14:47:25.963Z"
   },
   {
    "duration": 622,
    "start_time": "2023-08-06T14:47:33.486Z"
   },
   {
    "duration": 25557,
    "start_time": "2023-08-06T14:47:44.240Z"
   },
   {
    "duration": 10385,
    "start_time": "2023-08-06T14:48:33.020Z"
   },
   {
    "duration": 177,
    "start_time": "2023-08-06T14:49:56.254Z"
   },
   {
    "duration": 163,
    "start_time": "2023-08-06T14:50:05.351Z"
   },
   {
    "duration": 170,
    "start_time": "2023-08-06T14:50:18.668Z"
   },
   {
    "duration": 43,
    "start_time": "2023-08-06T14:50:41.428Z"
   },
   {
    "duration": 106,
    "start_time": "2023-08-06T14:50:47.750Z"
   },
   {
    "duration": 19199,
    "start_time": "2023-08-06T14:56:21.410Z"
   },
   {
    "duration": 4,
    "start_time": "2023-08-06T14:56:52.496Z"
   },
   {
    "duration": 20144,
    "start_time": "2023-08-06T14:56:56.766Z"
   },
   {
    "duration": 20823,
    "start_time": "2023-08-06T14:57:32.296Z"
   },
   {
    "duration": 654,
    "start_time": "2023-08-06T14:58:59.195Z"
   },
   {
    "duration": 633,
    "start_time": "2023-08-06T14:59:11.435Z"
   },
   {
    "duration": 602,
    "start_time": "2023-08-06T14:59:13.116Z"
   },
   {
    "duration": 623,
    "start_time": "2023-08-06T14:59:41.452Z"
   },
   {
    "duration": 653,
    "start_time": "2023-08-06T14:59:45.866Z"
   },
   {
    "duration": 666,
    "start_time": "2023-08-06T14:59:53.506Z"
   },
   {
    "duration": 643,
    "start_time": "2023-08-06T14:59:57.720Z"
   },
   {
    "duration": 667,
    "start_time": "2023-08-06T15:00:01.204Z"
   },
   {
    "duration": 659,
    "start_time": "2023-08-06T15:00:04.609Z"
   },
   {
    "duration": 677,
    "start_time": "2023-08-06T15:00:08.909Z"
   },
   {
    "duration": 694,
    "start_time": "2023-08-06T15:00:13.508Z"
   },
   {
    "duration": 696,
    "start_time": "2023-08-06T15:00:17.129Z"
   },
   {
    "duration": 674,
    "start_time": "2023-08-06T15:00:21.504Z"
   },
   {
    "duration": 681,
    "start_time": "2023-08-06T15:00:26.805Z"
   },
   {
    "duration": 683,
    "start_time": "2023-08-06T15:00:35.660Z"
   },
   {
    "duration": 664,
    "start_time": "2023-08-06T15:00:38.301Z"
   },
   {
    "duration": 652,
    "start_time": "2023-08-06T15:00:42.067Z"
   },
   {
    "duration": 737,
    "start_time": "2023-08-06T15:00:45.211Z"
   },
   {
    "duration": 657,
    "start_time": "2023-08-06T15:00:48.301Z"
   },
   {
    "duration": 638,
    "start_time": "2023-08-06T15:00:50.444Z"
   },
   {
    "duration": 660,
    "start_time": "2023-08-06T15:00:56.820Z"
   },
   {
    "duration": 694,
    "start_time": "2023-08-06T15:01:00.707Z"
   },
   {
    "duration": 657,
    "start_time": "2023-08-06T15:01:04.057Z"
   },
   {
    "duration": 666,
    "start_time": "2023-08-06T15:01:06.958Z"
   },
   {
    "duration": 714,
    "start_time": "2023-08-06T15:01:11.378Z"
   },
   {
    "duration": 745,
    "start_time": "2023-08-06T15:01:14.904Z"
   },
   {
    "duration": 678,
    "start_time": "2023-08-06T15:01:17.626Z"
   },
   {
    "duration": 679,
    "start_time": "2023-08-06T15:01:20.707Z"
   },
   {
    "duration": 665,
    "start_time": "2023-08-06T15:01:46.263Z"
   },
   {
    "duration": 10876,
    "start_time": "2023-08-06T15:02:07.382Z"
   },
   {
    "duration": 227,
    "start_time": "2023-08-06T15:04:36.240Z"
   },
   {
    "duration": 214,
    "start_time": "2023-08-06T15:05:27.848Z"
   },
   {
    "duration": 705,
    "start_time": "2023-08-06T16:06:35.430Z"
   },
   {
    "duration": 18638,
    "start_time": "2023-08-06T16:07:11.177Z"
   },
   {
    "duration": 18662,
    "start_time": "2023-08-06T16:07:42.960Z"
   },
   {
    "duration": 222,
    "start_time": "2023-08-06T16:08:01.625Z"
   },
   {
    "duration": 10398,
    "start_time": "2023-08-06T16:08:01.849Z"
   },
   {
    "duration": 16798,
    "start_time": "2023-08-06T16:09:13.531Z"
   },
   {
    "duration": 239,
    "start_time": "2023-08-06T16:09:48.847Z"
   },
   {
    "duration": 653,
    "start_time": "2023-08-06T16:10:16.647Z"
   },
   {
    "duration": 649,
    "start_time": "2023-08-06T16:10:21.390Z"
   },
   {
    "duration": 697,
    "start_time": "2023-08-06T16:12:59.978Z"
   },
   {
    "duration": 677,
    "start_time": "2023-08-06T16:13:23.450Z"
   },
   {
    "duration": 742,
    "start_time": "2023-08-06T16:13:35.652Z"
   },
   {
    "duration": 10186,
    "start_time": "2023-08-06T16:14:06.359Z"
   },
   {
    "duration": 20178,
    "start_time": "2023-08-06T16:15:15.336Z"
   },
   {
    "duration": 235,
    "start_time": "2023-08-06T16:16:03.294Z"
   },
   {
    "duration": 271,
    "start_time": "2023-08-06T16:16:10.741Z"
   },
   {
    "duration": 260,
    "start_time": "2023-08-06T16:17:19.927Z"
   },
   {
    "duration": 232,
    "start_time": "2023-08-06T16:17:48.200Z"
   },
   {
    "duration": 1937,
    "start_time": "2023-08-06T16:19:09.400Z"
   },
   {
    "duration": 4,
    "start_time": "2023-08-06T16:19:11.339Z"
   },
   {
    "duration": 16,
    "start_time": "2023-08-06T16:19:11.344Z"
   },
   {
    "duration": 48,
    "start_time": "2023-08-06T16:19:11.363Z"
   },
   {
    "duration": 14,
    "start_time": "2023-08-06T16:19:11.413Z"
   },
   {
    "duration": 18,
    "start_time": "2023-08-06T16:19:11.429Z"
   },
   {
    "duration": 19,
    "start_time": "2023-08-06T16:19:11.449Z"
   },
   {
    "duration": 16,
    "start_time": "2023-08-06T16:19:11.470Z"
   },
   {
    "duration": 198,
    "start_time": "2023-08-06T16:19:11.488Z"
   },
   {
    "duration": 107,
    "start_time": "2023-08-06T16:19:11.688Z"
   },
   {
    "duration": 626,
    "start_time": "2023-08-06T16:19:11.797Z"
   },
   {
    "duration": 6,
    "start_time": "2023-08-06T16:19:12.424Z"
   },
   {
    "duration": 3933,
    "start_time": "2023-08-06T16:19:12.432Z"
   },
   {
    "duration": 102,
    "start_time": "2023-08-06T16:19:16.367Z"
   },
   {
    "duration": 643,
    "start_time": "2023-08-06T16:19:16.471Z"
   },
   {
    "duration": 149,
    "start_time": "2023-08-06T16:19:17.117Z"
   },
   {
    "duration": 341,
    "start_time": "2023-08-06T16:19:17.268Z"
   },
   {
    "duration": 836,
    "start_time": "2023-08-06T16:19:17.611Z"
   },
   {
    "duration": 10403,
    "start_time": "2023-08-06T16:19:18.448Z"
   },
   {
    "duration": 20971,
    "start_time": "2023-08-06T16:19:28.853Z"
   },
   {
    "duration": 268,
    "start_time": "2023-08-06T16:19:49.826Z"
   },
   {
    "duration": 1924,
    "start_time": "2023-08-06T16:20:46.263Z"
   },
   {
    "duration": 3,
    "start_time": "2023-08-06T16:20:48.190Z"
   },
   {
    "duration": 17,
    "start_time": "2023-08-06T16:20:48.195Z"
   },
   {
    "duration": 68,
    "start_time": "2023-08-06T16:20:48.213Z"
   },
   {
    "duration": 13,
    "start_time": "2023-08-06T16:20:48.283Z"
   },
   {
    "duration": 23,
    "start_time": "2023-08-06T16:20:48.299Z"
   },
   {
    "duration": 29,
    "start_time": "2023-08-06T16:20:48.324Z"
   },
   {
    "duration": 8,
    "start_time": "2023-08-06T16:20:48.355Z"
   },
   {
    "duration": 182,
    "start_time": "2023-08-06T16:20:48.365Z"
   },
   {
    "duration": 105,
    "start_time": "2023-08-06T16:20:48.548Z"
   },
   {
    "duration": 634,
    "start_time": "2023-08-06T16:20:48.654Z"
   },
   {
    "duration": 5,
    "start_time": "2023-08-06T16:20:49.290Z"
   },
   {
    "duration": 5263,
    "start_time": "2023-08-06T16:20:49.296Z"
   },
   {
    "duration": 102,
    "start_time": "2023-08-06T16:20:54.562Z"
   },
   {
    "duration": 650,
    "start_time": "2023-08-06T16:20:54.665Z"
   },
   {
    "duration": 148,
    "start_time": "2023-08-06T16:20:55.317Z"
   },
   {
    "duration": 300,
    "start_time": "2023-08-06T16:20:55.509Z"
   },
   {
    "duration": 784,
    "start_time": "2023-08-06T16:20:55.811Z"
   },
   {
    "duration": 10237,
    "start_time": "2023-08-06T16:20:56.597Z"
   },
   {
    "duration": 12178,
    "start_time": "2023-08-06T16:21:06.836Z"
   },
   {
    "duration": 242,
    "start_time": "2023-08-06T16:21:19.016Z"
   },
   {
    "duration": 167,
    "start_time": "2023-08-06T16:23:12.663Z"
   },
   {
    "duration": 3,
    "start_time": "2023-08-06T16:36:41.091Z"
   },
   {
    "duration": 723,
    "start_time": "2023-08-06T16:38:35.497Z"
   },
   {
    "duration": 4,
    "start_time": "2023-08-06T16:39:38.547Z"
   },
   {
    "duration": 323,
    "start_time": "2023-08-06T16:42:09.164Z"
   },
   {
    "duration": 11176,
    "start_time": "2023-08-06T16:43:13.125Z"
   },
   {
    "duration": 12037,
    "start_time": "2023-08-06T16:43:24.303Z"
   },
   {
    "duration": 5,
    "start_time": "2023-08-06T17:00:55.236Z"
   },
   {
    "duration": 16,
    "start_time": "2023-08-06T17:00:55.243Z"
   },
   {
    "duration": 47,
    "start_time": "2023-08-06T17:00:55.260Z"
   },
   {
    "duration": 12,
    "start_time": "2023-08-06T17:00:55.310Z"
   },
   {
    "duration": 22,
    "start_time": "2023-08-06T17:00:55.323Z"
   },
   {
    "duration": 10,
    "start_time": "2023-08-06T17:00:55.347Z"
   },
   {
    "duration": 16,
    "start_time": "2023-08-06T17:00:55.358Z"
   },
   {
    "duration": 189,
    "start_time": "2023-08-06T17:00:55.376Z"
   },
   {
    "duration": 104,
    "start_time": "2023-08-06T17:00:55.567Z"
   },
   {
    "duration": 651,
    "start_time": "2023-08-06T17:00:55.673Z"
   },
   {
    "duration": 6,
    "start_time": "2023-08-06T17:00:56.325Z"
   },
   {
    "duration": 5413,
    "start_time": "2023-08-06T17:00:56.333Z"
   },
   {
    "duration": 99,
    "start_time": "2023-08-06T17:01:01.748Z"
   },
   {
    "duration": 660,
    "start_time": "2023-08-06T17:01:01.849Z"
   },
   {
    "duration": 146,
    "start_time": "2023-08-06T17:01:02.511Z"
   },
   {
    "duration": 256,
    "start_time": "2023-08-06T17:01:02.659Z"
   },
   {
    "duration": 821,
    "start_time": "2023-08-06T17:01:02.917Z"
   },
   {
    "duration": 10614,
    "start_time": "2023-08-06T17:01:03.739Z"
   },
   {
    "duration": 12563,
    "start_time": "2023-08-06T17:01:14.355Z"
   },
   {
    "duration": 299,
    "start_time": "2023-08-06T17:01:26.920Z"
   },
   {
    "duration": 4,
    "start_time": "2023-08-06T17:02:21.923Z"
   },
   {
    "duration": 73,
    "start_time": "2023-08-06T17:02:21.933Z"
   },
   {
    "duration": 68,
    "start_time": "2023-08-06T17:02:22.008Z"
   },
   {
    "duration": 24,
    "start_time": "2023-08-06T17:02:22.078Z"
   },
   {
    "duration": 28,
    "start_time": "2023-08-06T17:02:22.104Z"
   },
   {
    "duration": 29,
    "start_time": "2023-08-06T17:02:22.134Z"
   },
   {
    "duration": 26,
    "start_time": "2023-08-06T17:02:22.164Z"
   },
   {
    "duration": 195,
    "start_time": "2023-08-06T17:02:22.191Z"
   },
   {
    "duration": 100,
    "start_time": "2023-08-06T17:02:22.388Z"
   },
   {
    "duration": 667,
    "start_time": "2023-08-06T17:02:22.491Z"
   },
   {
    "duration": 5,
    "start_time": "2023-08-06T17:02:23.162Z"
   },
   {
    "duration": 4471,
    "start_time": "2023-08-06T17:02:23.168Z"
   },
   {
    "duration": 110,
    "start_time": "2023-08-06T17:02:27.641Z"
   },
   {
    "duration": 585,
    "start_time": "2023-08-06T17:02:27.753Z"
   },
   {
    "duration": 145,
    "start_time": "2023-08-06T17:02:28.409Z"
   },
   {
    "duration": 253,
    "start_time": "2023-08-06T17:02:28.555Z"
   },
   {
    "duration": 795,
    "start_time": "2023-08-06T17:02:28.811Z"
   },
   {
    "duration": 10093,
    "start_time": "2023-08-06T17:02:29.608Z"
   },
   {
    "duration": 12016,
    "start_time": "2023-08-06T17:02:39.703Z"
   },
   {
    "duration": 306,
    "start_time": "2023-08-06T17:02:51.720Z"
   },
   {
    "duration": 2132,
    "start_time": "2023-08-06T17:45:17.045Z"
   },
   {
    "duration": 9,
    "start_time": "2023-08-06T17:45:19.180Z"
   },
   {
    "duration": 92,
    "start_time": "2023-08-06T17:45:19.190Z"
   },
   {
    "duration": 14,
    "start_time": "2023-08-06T17:45:19.283Z"
   },
   {
    "duration": 19,
    "start_time": "2023-08-06T17:45:19.299Z"
   },
   {
    "duration": 8,
    "start_time": "2023-08-06T17:45:19.319Z"
   },
   {
    "duration": 9,
    "start_time": "2023-08-06T17:45:19.328Z"
   },
   {
    "duration": 242,
    "start_time": "2023-08-06T17:45:19.339Z"
   },
   {
    "duration": 210,
    "start_time": "2023-08-06T17:45:19.583Z"
   },
   {
    "duration": 0,
    "start_time": "2023-08-06T17:45:19.796Z"
   },
   {
    "duration": 0,
    "start_time": "2023-08-06T17:45:19.797Z"
   },
   {
    "duration": 0,
    "start_time": "2023-08-06T17:45:19.799Z"
   },
   {
    "duration": 0,
    "start_time": "2023-08-06T17:45:19.800Z"
   },
   {
    "duration": 1,
    "start_time": "2023-08-06T17:45:19.801Z"
   },
   {
    "duration": 0,
    "start_time": "2023-08-06T17:45:19.803Z"
   },
   {
    "duration": 0,
    "start_time": "2023-08-06T17:45:19.805Z"
   },
   {
    "duration": 0,
    "start_time": "2023-08-06T17:45:19.806Z"
   },
   {
    "duration": 0,
    "start_time": "2023-08-06T17:45:19.808Z"
   },
   {
    "duration": 0,
    "start_time": "2023-08-06T17:45:19.810Z"
   },
   {
    "duration": 0,
    "start_time": "2023-08-06T17:45:19.812Z"
   },
   {
    "duration": 101,
    "start_time": "2023-08-06T17:50:14.658Z"
   },
   {
    "duration": 571,
    "start_time": "2023-08-06T17:50:18.409Z"
   },
   {
    "duration": 9,
    "start_time": "2023-08-06T17:50:21.484Z"
   },
   {
    "duration": 4598,
    "start_time": "2023-08-06T17:50:24.133Z"
   },
   {
    "duration": 110,
    "start_time": "2023-08-06T17:50:28.733Z"
   },
   {
    "duration": 571,
    "start_time": "2023-08-06T17:50:28.844Z"
   },
   {
    "duration": 210,
    "start_time": "2023-08-06T17:50:29.418Z"
   },
   {
    "duration": 260,
    "start_time": "2023-08-06T17:50:29.630Z"
   },
   {
    "duration": 672,
    "start_time": "2023-08-06T17:50:29.892Z"
   },
   {
    "duration": 8552,
    "start_time": "2023-08-06T17:50:30.566Z"
   },
   {
    "duration": 14276,
    "start_time": "2023-08-06T17:50:39.119Z"
   },
   {
    "duration": 264,
    "start_time": "2023-08-06T17:50:53.396Z"
   },
   {
    "duration": 1769,
    "start_time": "2023-08-07T14:16:26.703Z"
   },
   {
    "duration": 2,
    "start_time": "2023-08-07T14:16:28.475Z"
   },
   {
    "duration": 84,
    "start_time": "2023-08-07T14:16:28.479Z"
   },
   {
    "duration": 14,
    "start_time": "2023-08-07T14:16:28.565Z"
   },
   {
    "duration": 19,
    "start_time": "2023-08-07T14:16:28.581Z"
   },
   {
    "duration": 5,
    "start_time": "2023-08-07T14:16:28.602Z"
   },
   {
    "duration": 8,
    "start_time": "2023-08-07T14:16:31.724Z"
   },
   {
    "duration": 6,
    "start_time": "2023-08-07T14:16:41.564Z"
   },
   {
    "duration": 7,
    "start_time": "2023-08-07T14:16:50.036Z"
   },
   {
    "duration": 4,
    "start_time": "2023-08-07T14:16:50.988Z"
   },
   {
    "duration": 6,
    "start_time": "2023-08-07T14:16:52.556Z"
   },
   {
    "duration": 5,
    "start_time": "2023-08-07T14:16:53.499Z"
   },
   {
    "duration": 5,
    "start_time": "2023-08-07T14:16:54.460Z"
   },
   {
    "duration": 5,
    "start_time": "2023-08-07T14:24:28.627Z"
   },
   {
    "duration": 16,
    "start_time": "2023-08-07T14:24:28.635Z"
   },
   {
    "duration": 61,
    "start_time": "2023-08-07T14:24:28.653Z"
   },
   {
    "duration": 16,
    "start_time": "2023-08-07T14:24:28.716Z"
   },
   {
    "duration": 21,
    "start_time": "2023-08-07T14:24:28.734Z"
   },
   {
    "duration": 16,
    "start_time": "2023-08-07T14:24:28.756Z"
   },
   {
    "duration": 21,
    "start_time": "2023-08-07T14:24:28.774Z"
   },
   {
    "duration": 281,
    "start_time": "2023-08-07T14:24:28.797Z"
   },
   {
    "duration": 115,
    "start_time": "2023-08-07T14:24:34.083Z"
   },
   {
    "duration": 103,
    "start_time": "2023-08-07T14:24:49.835Z"
   },
   {
    "duration": 4,
    "start_time": "2023-08-07T14:31:08.101Z"
   },
   {
    "duration": 39,
    "start_time": "2023-08-07T14:31:08.106Z"
   },
   {
    "duration": 74,
    "start_time": "2023-08-07T14:31:08.146Z"
   },
   {
    "duration": 13,
    "start_time": "2023-08-07T14:31:08.221Z"
   },
   {
    "duration": 17,
    "start_time": "2023-08-07T14:31:08.236Z"
   },
   {
    "duration": 6,
    "start_time": "2023-08-07T14:31:08.255Z"
   },
   {
    "duration": 7,
    "start_time": "2023-08-07T14:31:08.263Z"
   },
   {
    "duration": 272,
    "start_time": "2023-08-07T14:31:08.271Z"
   },
   {
    "duration": 110,
    "start_time": "2023-08-07T14:31:08.544Z"
   },
   {
    "duration": 634,
    "start_time": "2023-08-07T14:31:08.656Z"
   },
   {
    "duration": 6,
    "start_time": "2023-08-07T14:31:09.292Z"
   },
   {
    "duration": 1348,
    "start_time": "2023-08-07T14:32:01.009Z"
   },
   {
    "duration": 4,
    "start_time": "2023-08-07T14:32:02.359Z"
   },
   {
    "duration": 87,
    "start_time": "2023-08-07T14:32:02.364Z"
   },
   {
    "duration": 19,
    "start_time": "2023-08-07T14:32:02.453Z"
   },
   {
    "duration": 32,
    "start_time": "2023-08-07T14:32:02.476Z"
   },
   {
    "duration": 23,
    "start_time": "2023-08-07T14:32:02.510Z"
   },
   {
    "duration": 19,
    "start_time": "2023-08-07T14:32:02.535Z"
   },
   {
    "duration": 280,
    "start_time": "2023-08-07T14:32:02.557Z"
   },
   {
    "duration": 118,
    "start_time": "2023-08-07T14:32:02.838Z"
   },
   {
    "duration": 649,
    "start_time": "2023-08-07T14:32:02.958Z"
   },
   {
    "duration": 5,
    "start_time": "2023-08-07T14:32:03.609Z"
   },
   {
    "duration": 507,
    "start_time": "2023-08-07T14:32:03.616Z"
   },
   {
    "duration": 113,
    "start_time": "2023-08-07T14:32:04.125Z"
   },
   {
    "duration": 649,
    "start_time": "2023-08-07T14:32:04.241Z"
   },
   {
    "duration": 167,
    "start_time": "2023-08-07T14:32:04.892Z"
   },
   {
    "duration": 332,
    "start_time": "2023-08-07T14:32:05.061Z"
   },
   {
    "duration": 788,
    "start_time": "2023-08-07T14:32:05.399Z"
   },
   {
    "duration": 10319,
    "start_time": "2023-08-07T14:32:06.189Z"
   },
   {
    "duration": 14091,
    "start_time": "2023-08-07T14:32:16.509Z"
   },
   {
    "duration": 320,
    "start_time": "2023-08-07T14:32:30.602Z"
   },
   {
    "duration": 3,
    "start_time": "2023-08-07T14:37:21.386Z"
   },
   {
    "duration": 25,
    "start_time": "2023-08-07T14:37:21.390Z"
   },
   {
    "duration": 57,
    "start_time": "2023-08-07T14:37:21.417Z"
   },
   {
    "duration": 12,
    "start_time": "2023-08-07T14:37:21.475Z"
   },
   {
    "duration": 15,
    "start_time": "2023-08-07T14:37:21.490Z"
   },
   {
    "duration": 38,
    "start_time": "2023-08-07T14:37:21.506Z"
   },
   {
    "duration": 18,
    "start_time": "2023-08-07T14:37:21.546Z"
   },
   {
    "duration": 257,
    "start_time": "2023-08-07T14:37:21.566Z"
   },
   {
    "duration": 106,
    "start_time": "2023-08-07T14:37:21.825Z"
   },
   {
    "duration": 639,
    "start_time": "2023-08-07T14:37:21.933Z"
   },
   {
    "duration": 6,
    "start_time": "2023-08-07T14:37:22.573Z"
   },
   {
    "duration": 508,
    "start_time": "2023-08-07T14:37:22.587Z"
   },
   {
    "duration": 127,
    "start_time": "2023-08-07T14:37:23.097Z"
   },
   {
    "duration": 517,
    "start_time": "2023-08-07T14:37:23.226Z"
   },
   {
    "duration": 82,
    "start_time": "2023-08-07T14:37:23.745Z"
   },
   {
    "duration": 177,
    "start_time": "2023-08-07T14:37:36.279Z"
   },
   {
    "duration": 724,
    "start_time": "2023-08-07T14:41:30.438Z"
   },
   {
    "duration": 2070,
    "start_time": "2023-08-07T14:42:05.759Z"
   },
   {
    "duration": 10932,
    "start_time": "2023-08-07T14:42:56.422Z"
   },
   {
    "duration": 25512,
    "start_time": "2023-08-07T14:43:46.222Z"
   },
   {
    "duration": 14413,
    "start_time": "2023-08-07T14:44:36.494Z"
   },
   {
    "duration": 39288,
    "start_time": "2023-08-07T14:45:14.510Z"
   },
   {
    "duration": 346,
    "start_time": "2023-08-07T14:46:16.198Z"
   },
   {
    "duration": 1852,
    "start_time": "2023-08-07T14:47:26.016Z"
   },
   {
    "duration": 3,
    "start_time": "2023-08-07T14:47:27.870Z"
   },
   {
    "duration": 71,
    "start_time": "2023-08-07T14:47:27.874Z"
   },
   {
    "duration": 13,
    "start_time": "2023-08-07T14:47:27.947Z"
   },
   {
    "duration": 45,
    "start_time": "2023-08-07T14:47:27.963Z"
   },
   {
    "duration": 39,
    "start_time": "2023-08-07T14:47:28.010Z"
   },
   {
    "duration": 17,
    "start_time": "2023-08-07T14:47:28.051Z"
   },
   {
    "duration": 294,
    "start_time": "2023-08-07T14:47:28.070Z"
   },
   {
    "duration": 124,
    "start_time": "2023-08-07T14:47:28.366Z"
   },
   {
    "duration": 670,
    "start_time": "2023-08-07T14:47:28.492Z"
   },
   {
    "duration": 5,
    "start_time": "2023-08-07T14:47:29.164Z"
   },
   {
    "duration": 559,
    "start_time": "2023-08-07T14:47:29.171Z"
   },
   {
    "duration": 136,
    "start_time": "2023-08-07T14:47:29.732Z"
   },
   {
    "duration": 564,
    "start_time": "2023-08-07T14:47:29.871Z"
   },
   {
    "duration": 67,
    "start_time": "2023-08-07T14:47:30.436Z"
   },
   {
    "duration": 296,
    "start_time": "2023-08-07T14:47:30.505Z"
   },
   {
    "duration": 920,
    "start_time": "2023-08-07T14:47:30.804Z"
   },
   {
    "duration": 2248,
    "start_time": "2023-08-07T14:47:31.726Z"
   },
   {
    "duration": 10943,
    "start_time": "2023-08-07T14:47:33.976Z"
   },
   {
    "duration": 25819,
    "start_time": "2023-08-07T14:47:44.921Z"
   },
   {
    "duration": 14676,
    "start_time": "2023-08-07T14:48:10.742Z"
   },
   {
    "duration": 41493,
    "start_time": "2023-08-07T14:48:25.420Z"
   },
   {
    "duration": 311,
    "start_time": "2023-08-07T14:49:06.915Z"
   },
   {
    "duration": 1531,
    "start_time": "2023-08-07T14:50:12.955Z"
   },
   {
    "duration": 4,
    "start_time": "2023-08-07T14:50:14.489Z"
   },
   {
    "duration": 67,
    "start_time": "2023-08-07T14:50:14.495Z"
   },
   {
    "duration": 14,
    "start_time": "2023-08-07T14:50:14.564Z"
   },
   {
    "duration": 97,
    "start_time": "2023-08-07T14:50:14.580Z"
   },
   {
    "duration": 15,
    "start_time": "2023-08-07T14:50:14.679Z"
   },
   {
    "duration": 30,
    "start_time": "2023-08-07T14:50:14.696Z"
   },
   {
    "duration": 320,
    "start_time": "2023-08-07T14:50:14.728Z"
   },
   {
    "duration": 143,
    "start_time": "2023-08-07T14:50:15.052Z"
   },
   {
    "duration": 675,
    "start_time": "2023-08-07T14:50:15.199Z"
   },
   {
    "duration": 6,
    "start_time": "2023-08-07T14:50:15.875Z"
   },
   {
    "duration": 601,
    "start_time": "2023-08-07T14:50:15.890Z"
   },
   {
    "duration": 132,
    "start_time": "2023-08-07T14:50:16.494Z"
   },
   {
    "duration": 526,
    "start_time": "2023-08-07T14:50:16.627Z"
   },
   {
    "duration": 83,
    "start_time": "2023-08-07T14:50:17.156Z"
   },
   {
    "duration": 172,
    "start_time": "2023-08-07T14:50:17.241Z"
   },
   {
    "duration": 822,
    "start_time": "2023-08-07T14:50:17.415Z"
   },
   {
    "duration": 2154,
    "start_time": "2023-08-07T14:50:18.238Z"
   },
   {
    "duration": 10990,
    "start_time": "2023-08-07T14:50:20.395Z"
   },
   {
    "duration": 25504,
    "start_time": "2023-08-07T14:50:31.388Z"
   },
   {
    "duration": 14615,
    "start_time": "2023-08-07T14:50:56.894Z"
   },
   {
    "duration": 39498,
    "start_time": "2023-08-07T14:51:11.511Z"
   },
   {
    "duration": 316,
    "start_time": "2023-08-07T14:51:51.012Z"
   },
   {
    "duration": 1574,
    "start_time": "2023-08-07T14:56:49.002Z"
   },
   {
    "duration": 4,
    "start_time": "2023-08-07T14:56:50.578Z"
   },
   {
    "duration": 67,
    "start_time": "2023-08-07T14:56:50.583Z"
   },
   {
    "duration": 20,
    "start_time": "2023-08-07T14:56:50.652Z"
   },
   {
    "duration": 33,
    "start_time": "2023-08-07T14:56:50.675Z"
   },
   {
    "duration": 5,
    "start_time": "2023-08-07T14:56:50.710Z"
   },
   {
    "duration": 10,
    "start_time": "2023-08-07T14:56:50.717Z"
   },
   {
    "duration": 312,
    "start_time": "2023-08-07T14:56:50.729Z"
   },
   {
    "duration": 136,
    "start_time": "2023-08-07T14:56:51.042Z"
   },
   {
    "duration": 700,
    "start_time": "2023-08-07T14:56:51.180Z"
   },
   {
    "duration": 6,
    "start_time": "2023-08-07T14:56:51.882Z"
   },
   {
    "duration": 533,
    "start_time": "2023-08-07T14:56:51.890Z"
   },
   {
    "duration": 173,
    "start_time": "2023-08-07T14:56:52.425Z"
   },
   {
    "duration": 551,
    "start_time": "2023-08-07T14:56:52.602Z"
   },
   {
    "duration": 76,
    "start_time": "2023-08-07T14:56:53.155Z"
   },
   {
    "duration": 166,
    "start_time": "2023-08-07T14:56:53.232Z"
   },
   {
    "duration": 765,
    "start_time": "2023-08-07T14:56:53.400Z"
   },
   {
    "duration": 2280,
    "start_time": "2023-08-07T14:56:54.167Z"
   },
   {
    "duration": 10892,
    "start_time": "2023-08-07T14:56:56.449Z"
   },
   {
    "duration": 25534,
    "start_time": "2023-08-07T14:57:07.343Z"
   },
   {
    "duration": 13161,
    "start_time": "2023-08-07T14:57:32.879Z"
   },
   {
    "duration": 38919,
    "start_time": "2023-08-07T14:57:46.042Z"
   },
   {
    "duration": 331,
    "start_time": "2023-08-07T14:58:24.963Z"
   },
   {
    "duration": 315,
    "start_time": "2023-08-07T14:59:34.816Z"
   },
   {
    "duration": 1471,
    "start_time": "2023-08-07T14:59:47.864Z"
   },
   {
    "duration": 2,
    "start_time": "2023-08-07T14:59:49.338Z"
   },
   {
    "duration": 44,
    "start_time": "2023-08-07T14:59:49.342Z"
   },
   {
    "duration": 13,
    "start_time": "2023-08-07T14:59:49.387Z"
   },
   {
    "duration": 16,
    "start_time": "2023-08-07T14:59:49.402Z"
   },
   {
    "duration": 4,
    "start_time": "2023-08-07T14:59:49.420Z"
   },
   {
    "duration": 7,
    "start_time": "2023-08-07T14:59:49.426Z"
   },
   {
    "duration": 298,
    "start_time": "2023-08-07T14:59:49.435Z"
   },
   {
    "duration": 133,
    "start_time": "2023-08-07T14:59:49.736Z"
   },
   {
    "duration": 667,
    "start_time": "2023-08-07T14:59:49.871Z"
   },
   {
    "duration": 6,
    "start_time": "2023-08-07T14:59:50.540Z"
   },
   {
    "duration": 512,
    "start_time": "2023-08-07T14:59:50.548Z"
   },
   {
    "duration": 122,
    "start_time": "2023-08-07T14:59:51.063Z"
   },
   {
    "duration": 522,
    "start_time": "2023-08-07T14:59:51.188Z"
   },
   {
    "duration": 63,
    "start_time": "2023-08-07T14:59:51.712Z"
   },
   {
    "duration": 148,
    "start_time": "2023-08-07T14:59:51.786Z"
   },
   {
    "duration": 740,
    "start_time": "2023-08-07T14:59:51.936Z"
   },
   {
    "duration": 2087,
    "start_time": "2023-08-07T14:59:52.678Z"
   },
   {
    "duration": 10843,
    "start_time": "2023-08-07T14:59:54.767Z"
   },
   {
    "duration": 25272,
    "start_time": "2023-08-07T15:00:05.612Z"
   },
   {
    "duration": 13259,
    "start_time": "2023-08-07T15:00:30.887Z"
   },
   {
    "duration": 1607,
    "start_time": "2023-08-07T17:09:37.324Z"
   },
   {
    "duration": 3,
    "start_time": "2023-08-07T17:09:38.933Z"
   },
   {
    "duration": 135,
    "start_time": "2023-08-07T17:09:38.938Z"
   },
   {
    "duration": 13,
    "start_time": "2023-08-07T17:09:39.075Z"
   },
   {
    "duration": 58,
    "start_time": "2023-08-07T17:09:39.090Z"
   },
   {
    "duration": 16,
    "start_time": "2023-08-07T17:09:39.149Z"
   },
   {
    "duration": 51,
    "start_time": "2023-08-07T17:09:39.167Z"
   },
   {
    "duration": 286,
    "start_time": "2023-08-07T17:09:39.222Z"
   },
   {
    "duration": 126,
    "start_time": "2023-08-07T17:09:39.513Z"
   },
   {
    "duration": 695,
    "start_time": "2023-08-07T17:09:39.643Z"
   },
   {
    "duration": 7,
    "start_time": "2023-08-07T17:09:40.339Z"
   },
   {
    "duration": 580,
    "start_time": "2023-08-07T17:09:40.348Z"
   },
   {
    "duration": 121,
    "start_time": "2023-08-07T17:09:40.930Z"
   },
   {
    "duration": 555,
    "start_time": "2023-08-07T17:09:41.053Z"
   },
   {
    "duration": 63,
    "start_time": "2023-08-07T17:09:41.609Z"
   },
   {
    "duration": 175,
    "start_time": "2023-08-07T17:09:41.674Z"
   },
   {
    "duration": 772,
    "start_time": "2023-08-07T17:09:41.851Z"
   },
   {
    "duration": 2324,
    "start_time": "2023-08-07T17:09:42.625Z"
   },
   {
    "duration": 11571,
    "start_time": "2023-08-07T17:09:44.952Z"
   },
   {
    "duration": 27046,
    "start_time": "2023-08-07T17:09:56.526Z"
   },
   {
    "duration": 14465,
    "start_time": "2023-08-07T17:10:23.573Z"
   },
   {
    "duration": 34712,
    "start_time": "2023-08-07T17:10:38.040Z"
   },
   {
    "duration": 325,
    "start_time": "2023-08-07T17:11:12.754Z"
   },
   {
    "duration": 1671,
    "start_time": "2023-08-08T18:26:38.653Z"
   },
   {
    "duration": 4,
    "start_time": "2023-08-08T18:26:40.326Z"
   },
   {
    "duration": 93,
    "start_time": "2023-08-08T18:26:40.331Z"
   },
   {
    "duration": 20,
    "start_time": "2023-08-08T18:26:40.426Z"
   },
   {
    "duration": 42,
    "start_time": "2023-08-08T18:26:40.448Z"
   },
   {
    "duration": 8,
    "start_time": "2023-08-08T18:26:40.492Z"
   },
   {
    "duration": 25,
    "start_time": "2023-08-08T18:26:40.502Z"
   },
   {
    "duration": 287,
    "start_time": "2023-08-08T18:26:40.529Z"
   },
   {
    "duration": 131,
    "start_time": "2023-08-08T18:26:40.818Z"
   },
   {
    "duration": 722,
    "start_time": "2023-08-08T18:26:40.951Z"
   },
   {
    "duration": 6,
    "start_time": "2023-08-08T18:26:41.675Z"
   },
   {
    "duration": 135,
    "start_time": "2023-08-08T18:26:41.683Z"
   },
   {
    "duration": 0,
    "start_time": "2023-08-08T18:26:41.819Z"
   },
   {
    "duration": 0,
    "start_time": "2023-08-08T18:26:41.820Z"
   },
   {
    "duration": 0,
    "start_time": "2023-08-08T18:26:41.822Z"
   },
   {
    "duration": 0,
    "start_time": "2023-08-08T18:26:41.823Z"
   },
   {
    "duration": 0,
    "start_time": "2023-08-08T18:26:41.824Z"
   },
   {
    "duration": 1,
    "start_time": "2023-08-08T18:26:41.825Z"
   },
   {
    "duration": 0,
    "start_time": "2023-08-08T18:26:41.827Z"
   },
   {
    "duration": 0,
    "start_time": "2023-08-08T18:26:41.828Z"
   },
   {
    "duration": 0,
    "start_time": "2023-08-08T18:26:41.829Z"
   },
   {
    "duration": 0,
    "start_time": "2023-08-08T18:26:41.830Z"
   },
   {
    "duration": 0,
    "start_time": "2023-08-08T18:26:41.831Z"
   },
   {
    "duration": 5,
    "start_time": "2023-08-08T18:31:33.044Z"
   },
   {
    "duration": 7,
    "start_time": "2023-08-08T18:31:33.051Z"
   },
   {
    "duration": 46,
    "start_time": "2023-08-08T18:31:33.060Z"
   },
   {
    "duration": 12,
    "start_time": "2023-08-08T18:31:33.108Z"
   },
   {
    "duration": 14,
    "start_time": "2023-08-08T18:31:33.122Z"
   },
   {
    "duration": 9,
    "start_time": "2023-08-08T18:31:33.138Z"
   },
   {
    "duration": 14,
    "start_time": "2023-08-08T18:31:33.148Z"
   },
   {
    "duration": 273,
    "start_time": "2023-08-08T18:31:33.163Z"
   },
   {
    "duration": 122,
    "start_time": "2023-08-08T18:31:33.438Z"
   },
   {
    "duration": 2607,
    "start_time": "2023-09-18T17:22:32.912Z"
   },
   {
    "duration": 6,
    "start_time": "2023-09-18T17:22:52.350Z"
   },
   {
    "duration": 116,
    "start_time": "2023-09-18T17:22:53.583Z"
   },
   {
    "duration": 1404,
    "start_time": "2023-09-19T18:13:47.067Z"
   },
   {
    "duration": 3,
    "start_time": "2023-09-19T18:13:48.473Z"
   },
   {
    "duration": 177,
    "start_time": "2023-09-19T18:13:48.477Z"
   },
   {
    "duration": 16,
    "start_time": "2023-09-19T18:13:48.656Z"
   },
   {
    "duration": 15,
    "start_time": "2023-09-19T18:13:48.674Z"
   },
   {
    "duration": 5,
    "start_time": "2023-09-19T18:13:48.690Z"
   },
   {
    "duration": 6,
    "start_time": "2023-09-19T18:13:48.697Z"
   },
   {
    "duration": 265,
    "start_time": "2023-09-19T18:13:48.705Z"
   },
   {
    "duration": 128,
    "start_time": "2023-09-19T18:13:48.971Z"
   },
   {
    "duration": 621,
    "start_time": "2023-09-19T18:13:49.101Z"
   },
   {
    "duration": 5,
    "start_time": "2023-09-19T18:13:49.724Z"
   },
   {
    "duration": 383,
    "start_time": "2023-09-19T18:13:49.730Z"
   },
   {
    "duration": 345,
    "start_time": "2023-09-19T18:13:50.115Z"
   },
   {
    "duration": 0,
    "start_time": "2023-09-19T18:13:50.461Z"
   },
   {
    "duration": 0,
    "start_time": "2023-09-19T18:13:50.462Z"
   }
  ],
  "kernelspec": {
   "display_name": "Python 3 (ipykernel)",
   "language": "python",
   "name": "python3"
  },
  "language_info": {
   "codemirror_mode": {
    "name": "ipython",
    "version": 3
   },
   "file_extension": ".py",
   "mimetype": "text/x-python",
   "name": "python",
   "nbconvert_exporter": "python",
   "pygments_lexer": "ipython3",
   "version": "3.9.5"
  },
  "toc": {
   "base_numbering": 1,
   "nav_menu": {},
   "number_sections": true,
   "sideBar": true,
   "skip_h1_title": true,
   "title_cell": "Содержание",
   "title_sidebar": "Contents",
   "toc_cell": true,
   "toc_position": {
    "height": "calc(100% - 180px)",
    "left": "10px",
    "top": "150px",
    "width": "165px"
   },
   "toc_section_display": true,
   "toc_window_display": false
  }
 },
 "nbformat": 4,
 "nbformat_minor": 4
}
